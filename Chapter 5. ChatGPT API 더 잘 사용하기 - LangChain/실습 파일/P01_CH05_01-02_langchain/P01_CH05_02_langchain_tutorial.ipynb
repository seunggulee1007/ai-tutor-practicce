{
 "cells": [
  {
   "attachments": {},
   "cell_type": "markdown",
   "id": "2ed4da4d",
   "metadata": {},
   "source": [
    "# LangChain Tutorial"
   ]
  },
  {
   "cell_type": "code",
   "execution_count": null,
   "id": "a05530b1",
   "metadata": {},
   "outputs": [],
   "source": [
    "pip install langchain"
   ]
  },
  {
   "cell_type": "code",
   "execution_count": null,
   "id": "3b556fc2",
   "metadata": {},
   "outputs": [],
   "source": [
    "pip install openai"
   ]
  },
  {
   "cell_type": "code",
   "execution_count": null,
   "id": "0c07fe20",
   "metadata": {},
   "outputs": [],
   "source": [
    "import os\n",
    "# os.environ[\"OPENAI_API_KEY\"] = \"your_api_key\""
   ]
  },
  {
   "cell_type": "markdown",
   "id": "078d5e35-007d-4f00-a0d7-e90578360394",
   "metadata": {
    "jp-MarkdownHeadingCollapsed": true
   },
   "source": [
    "### Chat / LLM 모델​\n",
    "\n",
    "두 가지 유형의 언어 모델이 있습니다\n",
    "\n",
    "- ChatModel: 입력으로 메시지 리스트를 받고 메시지를 반환하는 기본 모델\n",
    "- LLM: 입력으로 문자열을 받고 문자열을 반환하는 기본 모델 `2024년 1월 4일에 지원 종료.`\n",
    "\n",
    "```python\n",
    "from langchain.chat_models import ChatOpenAI\n",
    "from langchain.llms import OpenAI  # will be shut off on January 4th, 2024.\n",
    "\n",
    "chat_model = ChatOpenAI()\n",
    "llm = OpenAI()\n",
    "\n",
    "```\n",
    "\n",
    "\n",
    "### Message\n",
    "\n",
    "기본 메시지 인터페이스는 BaseMessage에 의해 정의되며, 두 가지 필수 속성이 있습니다\n",
    "\n",
    "- content: 메시지의 내용입니다. 보통 문자열입니다.\n",
    "- role: BaseMessage가 오는 엔티티입니다.\n",
    "\n",
    "\n",
    "LangChain은 다양한 역할을 쉽게 구분할 수 있는 여러 객체를 제공합니다:\n",
    "\n",
    "- HumanMessage: 사용자/인간으로부터 오는 BaseMessage입니다.\n",
    "- AIMessage: AI/어시스턴트로부터 오는 BaseMessage입니다.\n",
    "- SystemMessage: 시스템으로부터 오는 BaseMessage입니다.\n",
    "- FunctionMessage / ToolMessage: 함수 또는 도구 호출의 결과를 포함하는 BaseMessage입니다.\n",
    "\n",
    "```python\n",
    "from langchain.schema import HumanMessage\n",
    "\n",
    "text = \"What would be a good company name for a company that makes colorful socks?\"\n",
    "messages = [HumanMessage(content=text)]\n",
    "\n",
    "llm.invoke(text)\n",
    "# >> Feetful of Fun\n",
    "\n",
    "chat_model.invoke(messages)\n",
    "# >> AIMessage(content=\"Socks O'Color\")\n",
    "```\n",
    "\n",
    "이들 역할 중 어느 것도 적절하지 않다면, `role`을 수동으로 지정할 수 있는 ChatMessage 클래스도 있습니다.\n",
    "\n",
    "LangChain은 LLM과 챗모델 모두에 공통적으로 사용되는 인터페이스를 제공합니다.\n",
    "그러나 주어진 언어 모델에 대한 프롬프트를 가장 효과적으로 구성하기 위해서는 두 모델의 차이점을 이해하는 것이 유용합니다.\n",
    "\n",
    "LLM이나 챗모델을 호출하는 가장 간단한 방법은 `.invoke()`를 사용하는 것입니다.\n",
    "\n",
    "- ChatModel.invoke: `BaseMessage의 리스트`를 입력으로 받고 `BaseMessage`를 반환합니다.\n",
    "- LLM.invoke: 문자열을 입력으로 받고 문자열을 반환합니다."
   ]
  },
  {
   "cell_type": "markdown",
   "id": "6c400862-e42c-4e3b-ab22-9c846a55d914",
   "metadata": {},
   "source": [
    "## LangChain으로 LLM 호출하기"
   ]
  },
  {
   "cell_type": "code",
   "execution_count": null,
   "id": "fb60fa79-5e04-4aab-b168-8b29f28d1a8b",
   "metadata": {},
   "outputs": [],
   "source": [
    "from langchain.chat_models import ChatOpenAI"
   ]
  },
  {
   "cell_type": "code",
   "execution_count": null,
   "id": "c05010a5-f074-47b8-80c3-3a7f2cde6a40",
   "metadata": {},
   "outputs": [],
   "source": [
    "llm = ChatOpenAI()"
   ]
  },
  {
   "cell_type": "code",
   "execution_count": null,
   "id": "918eacd6-8f26-4ee4-a438-3df878546491",
   "metadata": {},
   "outputs": [],
   "source": [
    "llm.invoke(\"안녕\")  # 이렇게 호출하는게 권장되진 않음"
   ]
  },
  {
   "cell_type": "markdown",
   "id": "919bafa7-7b64-4d65-9693-782f51705bed",
   "metadata": {},
   "source": [
    "## Messages"
   ]
  },
  {
   "cell_type": "code",
   "execution_count": null,
   "id": "8b886a98-e907-40be-bf65-7786e4931e17",
   "metadata": {},
   "outputs": [],
   "source": [
    "from langchain.schema import SystemMessage, HumanMessage"
   ]
  },
  {
   "cell_type": "code",
   "execution_count": null,
   "id": "712fc4b4-0ed4-4ba9-99ec-63f20bc90d9a",
   "metadata": {},
   "outputs": [],
   "source": [
    "# 대화 시작\n",
    "messages = [\n",
    "    SystemMessage(content=\"너는 AI 번역 모델이다.\"),\n",
    "    HumanMessage(content=\"'안녕' 이 문장이 영어로 뭐야?\"),\n",
    "]\n",
    "\n",
    "# 챗 모델을 호출하여 응답을 받습니다.\n",
    "response = llm.invoke(messages)"
   ]
  },
  {
   "cell_type": "code",
   "execution_count": null,
   "id": "5928c26b-b056-416f-92ae-6d0a75cb5491",
   "metadata": {},
   "outputs": [],
   "source": [
    "response"
   ]
  },
  {
   "cell_type": "code",
   "execution_count": null,
   "id": "7f490ef2-1a60-446d-97df-8d9c26a328a3",
   "metadata": {},
   "outputs": [],
   "source": [
    "response.content"
   ]
  },
  {
   "attachments": {},
   "cell_type": "markdown",
   "id": "0126a6a1",
   "metadata": {},
   "source": [
    "## Prompt Template"
   ]
  },
  {
   "cell_type": "code",
   "execution_count": null,
   "id": "d28d2f22-e430-472d-8a66-c70a46f25e1f",
   "metadata": {},
   "outputs": [],
   "source": [
    "from langchain.prompts.chat import (\n",
    "    ChatPromptTemplate,\n",
    "    HumanMessagePromptTemplate,\n",
    ")"
   ]
  },
  {
   "cell_type": "code",
   "execution_count": null,
   "id": "187c1018-67d6-4ab2-bf5e-73de04eb97cc",
   "metadata": {},
   "outputs": [],
   "source": [
    "human_template = \"'{text}' 이 문장을 영어로 번역해줘 \"\n",
    "human_message_prompt = HumanMessagePromptTemplate.from_template(human_template)\n",
    "chat_prompt = ChatPromptTemplate.from_messages([human_message_prompt])"
   ]
  },
  {
   "cell_type": "code",
   "execution_count": null,
   "id": "4b96aa3e-3e80-4379-aeb4-dbef2880d3fe",
   "metadata": {},
   "outputs": [],
   "source": [
    "chat_prompt"
   ]
  },
  {
   "cell_type": "code",
   "execution_count": null,
   "id": "76d3584f-4fb2-4711-aba7-b54ebeb9d5d4",
   "metadata": {},
   "outputs": [],
   "source": [
    "chat_prompt.invoke({\"text\": \"안녕\"})"
   ]
  },
  {
   "cell_type": "code",
   "execution_count": null,
   "id": "38005307-02f9-4afd-aeef-e49d7174e587",
   "metadata": {},
   "outputs": [],
   "source": [
    "chat_prompt.invoke({\"text\": \"잘가\"})"
   ]
  },
  {
   "cell_type": "markdown",
   "id": "84aa52e0-99c3-4d92-b175-6ce06f95c5bd",
   "metadata": {},
   "source": [
    "## Chain"
   ]
  },
  {
   "cell_type": "markdown",
   "id": "b7f4db5c-d360-4121-850d-e8211805032c",
   "metadata": {},
   "source": [
    "Prompt template과 LLM 연결하기"
   ]
  },
  {
   "cell_type": "code",
   "execution_count": null,
   "id": "ea047ece-4436-4f1e-9d1b-927b6f7fa4de",
   "metadata": {},
   "outputs": [],
   "source": [
    "# 요약 template\n",
    "human_message_prompt = \"'{text}' 여기서 키워드를 뽑아서 콤마로 구분해줘\"\n",
    "human_message_prompt_template = HumanMessagePromptTemplate.from_template(human_message_prompt)\n",
    "chat_prompt_template = ChatPromptTemplate.from_messages([human_message_prompt_template])"
   ]
  },
  {
   "cell_type": "code",
   "execution_count": null,
   "id": "56a897e4-17f0-4a69-a552-a9f4ff9518e1",
   "metadata": {},
   "outputs": [],
   "source": [
    "chain = chat_prompt_template | llm"
   ]
  },
  {
   "cell_type": "code",
   "execution_count": null,
   "id": "4267d4ba-0447-4919-a1f5-30cb301c0859",
   "metadata": {},
   "outputs": [],
   "source": [
    "out = chain.invoke({\"text\": \"LangChain is a framework for developing applications powered by language models.\"})"
   ]
  },
  {
   "cell_type": "code",
   "execution_count": null,
   "id": "3ecafa06-43b6-43d6-b5cf-6697ba208319",
   "metadata": {},
   "outputs": [],
   "source": [
    "out"
   ]
  },
  {
   "cell_type": "markdown",
   "id": "69c72d7e-03c7-42ac-8dad-01951e6ec897",
   "metadata": {},
   "source": [
    "### Output Parser"
   ]
  },
  {
   "cell_type": "code",
   "execution_count": null,
   "id": "94e00bfd-6058-4f85-bb2a-8f735dbb81c7",
   "metadata": {},
   "outputs": [],
   "source": [
    "from langchain.schema import StrOutputParser"
   ]
  },
  {
   "cell_type": "code",
   "execution_count": null,
   "id": "30cee8f6-9f11-49d0-8fb7-3841d3bbc53c",
   "metadata": {},
   "outputs": [],
   "source": [
    "chain_with_output_parser = chat_prompt_template | llm | StrOutputParser()"
   ]
  },
  {
   "cell_type": "code",
   "execution_count": null,
   "id": "10a9be50-d119-47d4-996a-2d7fb2bf17d5",
   "metadata": {},
   "outputs": [],
   "source": [
    "out = chain_with_output_parser.invoke({\"text\": \"LangChain is a framework for developing applications powered by language models.\"})"
   ]
  },
  {
   "cell_type": "code",
   "execution_count": null,
   "id": "bac233eb-09f9-4309-9dba-702e5ecd7d1c",
   "metadata": {},
   "outputs": [],
   "source": [
    "out"
   ]
  },
  {
   "cell_type": "markdown",
   "id": "3a6a4dc0-bf84-47bc-84b5-70b03ad9518d",
   "metadata": {},
   "source": [
    "#### Custom output Parser"
   ]
  },
  {
   "cell_type": "code",
   "execution_count": null,
   "id": "47fe0538-4bab-4bff-aeed-f124a304c991",
   "metadata": {},
   "outputs": [],
   "source": [
    "from langchain.schema import BaseOutputParser\n",
    "\n",
    "class CommaSeparatedListOutputParser(BaseOutputParser):\n",
    "    \"\"\"Parse the output of an LLM call to a comma-separated list.\"\"\"\n",
    "\n",
    "    def parse(self, text):\n",
    "        \"\"\"Parse the output of an LLM call.\"\"\"\n",
    "        return text.strip().split(\", \")"
   ]
  },
  {
   "cell_type": "code",
   "execution_count": null,
   "id": "1a46f9c5-1516-4894-b4bd-2fb4531d9647",
   "metadata": {},
   "outputs": [],
   "source": [
    "chain_with_comma_parser = chat_prompt_template | llm | CommaSeparatedListOutputParser()"
   ]
  },
  {
   "cell_type": "code",
   "execution_count": null,
   "id": "2acd2dd4-b3a4-44f7-945f-6246498ac43e",
   "metadata": {},
   "outputs": [],
   "source": [
    "out = chain_with_comma_parser.invoke({\"text\": \"LangChain is a framework for developing applications powered by language models.\"})"
   ]
  },
  {
   "cell_type": "code",
   "execution_count": null,
   "id": "38147433-4d9f-40f1-9a3c-e77dc6b51e91",
   "metadata": {},
   "outputs": [],
   "source": [
    "out"
   ]
  },
  {
   "cell_type": "code",
   "execution_count": null,
   "id": "c4116ad7-6aae-450e-8fad-8308f4c13ac1",
   "metadata": {},
   "outputs": [],
   "source": [
    "for keyword in out:\n",
    "    print(keyword)"
   ]
  },
  {
   "cell_type": "markdown",
   "id": "031a4270-366d-47d2-a04b-91968167e170",
   "metadata": {},
   "source": [
    "### Multiple chain"
   ]
  },
  {
   "cell_type": "code",
   "execution_count": null,
   "id": "7b2e52ba-e08d-4888-9387-e7703d88f8c4",
   "metadata": {},
   "outputs": [],
   "source": [
    "# Reference: https://techcrunch.com/2023/11/29/a-timeline-of-sam-altmans-firing-from-openai-and-the-fallout/?guccounter=1&guce_referrer=aHR0cHM6Ly93d3cuZ29vZ2xlLmNvbS8&guce_referrer_sig=AQAAABj9TJeKpfEe-qMrcSB1ZKRYrZ9NitZC84VpXuK3PdufAb1F4VMgQEyoGiLa3fQVRg3zA4CPhQmn-LKO2SsxoDiQchz292_G80ZxNOx34WQ_3Nad0xa_LtwILVKTBgSyjavB3uERdh8SdYbuZ0CSuifL21FfXxjD4Ldv3VlKdm0x\n",
    "text = \"\"\"\n",
    "In a dramatic turn of events late Friday, ex-Y Combinator president Sam Altman was fired as CEO of AI startup OpenAI, the company behind viral AI hits like ChatGPT, GPT-4 and DALL-E 3, by OpenAI’s board of directors. Then, the company’s longtime president and co-founder, Greg Brockman, resigned — as did three senior OpenAI researchers. And the fallout continues.\n",
    "\n",
    "TIP TECHCRUNCH\n",
    "\n",
    "Do you work at OpenAI and know more about Sam Altman’s departure? Get in touch with TechCrunch.\n",
    "It’s a fast-moving situation that we’re still trying to get to the bottom of. No doubt more will become clear as time goes on. To make it easier to follow all that’s happened in the meantime, though, we’ve put together a timeline; we’ll do our best to keep it current.\n",
    "\n",
    "Timeline of Sam Altman’s firing from OpenAI\n",
    "\n",
    "November 29\n",
    "\n",
    "Microsoft gains a board observer\n",
    "\n",
    "Microsoft will gain representation on the new initial board of directors in the form of a non-voting observer, OpenAI announced. It wasn’t immediately clear who this observer might be — only that they won’t have an official vote in board business.\n",
    "\n",
    "November 21\n",
    "\n",
    "Sam Altman, OpenAI reach agreement on return as CEO and ‘initial’ new board\n",
    "\n",
    "In a sudden late announcement, OpenAI revealed that it and Altman “have reached an agreement in principle” for him to return as the company’s CEO. In addition to Altman’s return, its new “initial” board will include former Salesforce chief executive Bret Taylor, former US Secretary of the Treasury Larry Summers and Quora founder Adam D’Angelo.\n",
    "\n",
    "\n",
    "Altman also posted about the new deal, giving some insight into the roller coaster that we’ve all been riding since his firing was revealed Friday. In his words, his decision to join Microsoft on Sunday “was the best path for me and the team.” Since then, the new board’s composition and Microsoft’s support appear to have been enough to bring him back to the AI company he co-founded.\n",
    "\n",
    "Altman and board in talks\n",
    "\n",
    "OpenAI’s board of directors is reportedly in talks with Sam Altman, ex-Y Combinator president and an OpenAI co-founder, to return to OpenAI as CEO as soon as this week. That’s according to Bloomberg, which in a brief — citing sources close to the matter — said that discussions are happening between Quora CEO Adam D’Angelo, one current member of the OpenAI board, and Altman — and possibly other board members as well.\n",
    "\n",
    "Board tensions boil over\n",
    "\n",
    "The New York Times reports that, before his ousting, Sam Altman made a move to push out board member Helen Toner because he thought a paper she had co-written was overly critical of OpenAI. That, among other issues, led to OpenAI’s current predicament. Speaking of, The Times indicates that negotiations to hire Altman back continue — but that one major sticking point remaining is “guardrails” meant to improve Altman’s communication with the board.\n",
    "\n",
    "\n",
    "—\n",
    "\n",
    "November 20\n",
    "\n",
    "Altman joins Microsoft\n",
    "\n",
    "Sam Altman, Greg Brockman and colleagues announce that they’ll join Microsoft to lead a new AI research team. Nadella leaves the door open to other OpenAI staffers, saying that they’ll be given the resources they need should they choose to join.\n",
    "\n",
    "Sutskever’s mea culpa\n",
    "\n",
    "Sutskever publishes a post on X suggesting that he regrets his decision to remove Altman and that he’ll do everything in his power to reinstate Altman as CEO.\n",
    "\n",
    "\n",
    "Employees threaten to resign\n",
    "\n",
    "Nearly 500 of OpenAI’s roughly 770 employees — including, remarkably, Sutskever — publish a letter saying that they might quit unless the startup’s board resigns and reappoints the ousted Altman. Later Monday, that number climbed to over 650.\n",
    "\n",
    "Altman and Brockman considering return\n",
    "\n",
    "As reported by The Verge, Altman’s move to Microsoft isn’t a done deal — and both Altman and Brockman are still open to returning to OpenAI. That is, if the remaining board members who initially fired him step aside.\n",
    "\n",
    "OpenAI board considers merger\n",
    "\n",
    "OpenAI’s board of directors approached Dario Amodei, the co-founder and CEO of rival large-language model developer Anthropic, about a potential merger of the two companies, The Information reports. The approach was part of an effort by OpenAI to persuade Amodei to replace Altman as CEO — but Amodei quickly turned down the CEO offer.\n",
    "\n",
    "—\n",
    "\n",
    "November 19\n",
    "\n",
    "Altman to meet at OpenAI HQ\n",
    "\n",
    "According to The Information, Altman is expected to meet at OpenAI’s San Francisco headquarters as executives at OpenAI push to have him reinstated as CEO. Brockman was invited to join — but it’s unclear whether he’ll take execs up on that invitation.\n",
    "\n",
    "Board negotiations hit a snag\n",
    "\n",
    "Bloomberg reports that Lightcap and Murati, among others, are pushing the board to reinstate Altman. But unsurprisingly, the directors are resisting. As of midday Sunday, the board hadn’t resigned out of concern over who could replace them, and were vetting candidates. One possible new addition could be Salesforce co-CEO Bret Taylor.\n",
    "\n",
    "Altman out, Shear in\n",
    "\n",
    "Altman won’t be returning as CEO, according to a report in The Information citing an internal memo sent by Sutskever. As the search for a new permanent CEO continues, OpenAI has appointed Emmett Shear, the co-founder of video streaming site Twitch, as interim CEO — replacing Murati.\n",
    "\n",
    "—\n",
    "\n",
    "November 18\n",
    "\n",
    "“Not … in response to malfeasance”\n",
    "\n",
    "In an internal memo obtained by Axios sent Saturday morning, OpenAI COO Brad Lightcap said yesterday’s announcement “took [the management team] by surprise” and that management had had “multiple conversations with the board to try to better understand the reasons and process behind their decision.” Discussions were ongoing as of Saturday morning, per the memo.\n",
    "\n",
    "“We can say definitively that the board’s decision was not made in response to malfeasance or anything related to our financial, business, safety, or security/privacy practices,” Lightcap added. “This was a breakdown in communication between Sam and the board … We still share your concerns about how the process has been handled, are working to resolve the situation, and will provide updates as we’re able.”\n",
    "\n",
    "OpenAI’s funding in jeopardy\n",
    "\n",
    "The planned sale of OpenAI employee shares that would value the startup at about $86 billion could be in jeopardy. The Information, speaking to three sources formerly with the company, reports that they no longer expect the sale — led by Thrive Capital — to happen, or, if it does, to come with a lesser valuation because of the recent turn of events.\n",
    "\n",
    "Altman planning new venture\n",
    "\n",
    "Altman has been telling investors that he’s planning to launch a new venture, according to The Information. Brockman is expected to join the effort — whatever form it takes. (Possibly an AI chip startup.)\n",
    "\n",
    "\n",
    "Investors pushing for Altman’s return\n",
    "\n",
    "Investors — furious at the turn of events — are reportedly exerting pressure on OpenAI’s board to reinstate Altman, going so far as to recruit Microsoft. Nadella is said to be sympathetic.\n",
    "\n",
    "Board agrees to reverse course — in principle\n",
    "\n",
    "The Verge reports that the board agreed in principle to resign and to allow Altman and Brockman to return. It waffled, however, missing a deadline yesterday by which many OpenAI staffers were set to leave the company. Altman is said to be ambivalent about coming back and asking for “significant” governance changes.\n",
    "\n",
    "—\n",
    "\n",
    "November 17\n",
    "\n",
    "Brockman demoted\n",
    "\n",
    "Brockman says he got a text from Sutskever shortly after noon on Friday asking for a quick call. After sending a Google Meet link, Brockman was told that he was being removed from the board as chairman “but was vital to the company and would retain his role” as president, and that Altman had been fired.\n",
    "\n",
    "Altman’s firing publicly announced\n",
    "\n",
    "OpenAI published a post on its blog announcing the executive shake-up. The company’s management team was aware shortly after.\n",
    "\n",
    "\n",
    "All-hands meeting\n",
    "\n",
    "OpenAI held an all-hands meeting Friday afternoon during which Sutskever defended Altman’s ouster. He dismissed suggestions that pushing Altman out amounted to a “hostile takeover,” and claimed that it was necessary to protect OpenAI’s mission of “making AI beneficial to humanity.”\n",
    "\n",
    "Microsoft releases a statement\n",
    "\n",
    "Satya Nadella, the CEO of Microsoft, a major investor in — and partner with — OpenAI, published a statement about Altman’s firing:\n",
    "\n",
    "“As you saw at Microsoft Ignite this week, we’re continuing to rapidly innovate for this era of AI, with over 100 announcements across the full tech stack from AI systems, models and tools in Azure, to Copilot. Most importantly, we’re committed to delivering all of this to our customers while building for the future. We have a long-term agreement with OpenAI with full access to everything we need to deliver on our innovation agenda and an exciting product roadmap; and remain committed to our partnership, and to Mira and the team. Together, we will continue to deliver the meaningful benefits of this technology to the world.”\n",
    "\n",
    "Brockman quits\n",
    "\n",
    "Brockman announced his resignation from OpenAI, citing “today’s news.” After sending a memo internally, he published the text on X.\n",
    "\n",
    "\n",
    "Senior OpenAI researchers resign\n",
    "\n",
    "Three senior OpenAI researchers resign after Brockman, including the director of research Jakub Pachocki and head of preparedness Aleksander Madry.\n",
    "\n",
    "—\n",
    "\n",
    "November 16\n",
    "\n",
    "Ilya Sutskever schedules call with Altman\n",
    "\n",
    "According to a post on X (formerly Twitter) from Brockman, Ilya Sutskever, the chief scientist at OpenAI and a co-founder, texted Altman on Thursday evening about scheduling a Friday noon call.\n",
    "\n",
    "\n",
    "Murati told of Altman’s firing\n",
    "\n",
    "Brockman alleges that Mira Murati, OpenAI’s CTO and now interim CEO, was informed on Thursday night that Altman would be fired.\n",
    "\"\"\""
   ]
  },
  {
   "cell_type": "code",
   "execution_count": null,
   "id": "f8979764-cd2e-4bcb-a498-4fab71ec2a3b",
   "metadata": {},
   "outputs": [],
   "source": [
    "# 요약 template\n",
    "summarize_human_message_prompt = \"'{text}' 이 내용 bullet point 사용해서 3줄 요약해줘\"\n",
    "summarize_human_message_prompt_template = HumanMessagePromptTemplate.from_template(summarize_human_message_prompt)\n",
    "summarize_chat_prompt_template = ChatPromptTemplate.from_messages([summarize_human_message_prompt])"
   ]
  },
  {
   "cell_type": "code",
   "execution_count": null,
   "id": "4dc3904c-cd6d-4c3c-8425-0e688c4132b1",
   "metadata": {},
   "outputs": [],
   "source": [
    "# 번역 template\n",
    "translate_human_message_prompt = \"'{text}' 이 내용 한국어로 번역해줘. 번역된 내용만 응답해줘\"\n",
    "translate_human_message_prompt_template = HumanMessagePromptTemplate.from_template(translate_human_message_prompt)\n",
    "translate_chat_prompt_template = ChatPromptTemplate.from_messages([translate_human_message_prompt_template])"
   ]
  },
  {
   "cell_type": "code",
   "execution_count": null,
   "id": "c0bf8468-46b6-49b6-a415-67c63a9283da",
   "metadata": {},
   "outputs": [],
   "source": [
    "summarize_chain = summarize_chat_prompt_template | llm | StrOutputParser()\n",
    "\n",
    "summarize_translate_chain = (\n",
    "    {\"text\": summarize_chain}\n",
    "    | translate_chat_prompt_template\n",
    "    | llm\n",
    "    | StrOutputParser() )"
   ]
  },
  {
   "cell_type": "code",
   "execution_count": null,
   "id": "88fdf223-bf32-4593-a3d2-d1aa1bad0c3c",
   "metadata": {},
   "outputs": [],
   "source": [
    "result = summarize_translate_chain.invoke({\"text\": text})"
   ]
  },
  {
   "cell_type": "code",
   "execution_count": null,
   "id": "df4439be-0773-4c64-b9ec-b34487065c22",
   "metadata": {},
   "outputs": [],
   "source": [
    "print(result)"
   ]
  },
  {
   "cell_type": "code",
   "execution_count": null,
   "id": "c52c7128-c728-43a3-b342-651228fa8768",
   "metadata": {},
   "outputs": [],
   "source": []
  }
 ],
 "metadata": {
  "kernelspec": {
   "display_name": "Python 3 (ipykernel)",
   "language": "python",
   "name": "python3"
  },
  "language_info": {
   "codemirror_mode": {
    "name": "ipython",
    "version": 3
   },
   "file_extension": ".py",
   "mimetype": "text/x-python",
   "name": "python",
   "nbconvert_exporter": "python",
   "pygments_lexer": "ipython3",
   "version": "3.11.5"
  }
 },
 "nbformat": 4,
 "nbformat_minor": 5
}
