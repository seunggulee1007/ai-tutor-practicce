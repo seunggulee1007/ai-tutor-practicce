{
 "cells": [
  {
   "cell_type": "markdown",
   "id": "ee335952-03b5-48d3-b184-ab8b91b51268",
   "metadata": {},
   "source": [
    "# Jupyter Lab Tutorial"
   ]
  },
  {
   "cell_type": "markdown",
   "id": "773cc204-f53f-4ee0-bab4-d51ba4ccd38e",
   "metadata": {},
   "source": [
    "# Jupyter Lab 둘러보기\n",
    "- 디렉토리 조회\n",
    "- 파일 생성\n",
    "- 테마\n",
    "- 재실행"
   ]
  },
  {
   "cell_type": "markdown",
   "id": "7f030fa2-e824-417e-a4e8-9bcf3afafc7e",
   "metadata": {},
   "source": [
    "# Jupyter 의 기본 단위 \n",
    "\n",
    "스크립트와는 달리, 코드가 기본 콘텐츠인 경우에 다른 모든 것을 주석으로 적용해야 합니다. 하지만 노트북은 셀을 기반으로 합니다.\n",
    "\n",
    "셀에는 다음과 같은 형식이 있을 수 있습니다:\n",
    "\n",
    "- 마크다운 형식의 텍스트 셀\n",
    "- 코드 셀 (파이썬 노트북에서는 파이썬 코드가 기본이지만, 다른 언어도 가능)\n",
    "- 원시, 형식이 지정되지 않은 텍스트"
   ]
  },
  {
   "cell_type": "markdown",
   "id": "404a5417-dc7e-4d8a-b7c3-e2449c837de9",
   "metadata": {},
   "source": [
    "### Code Cells\n",
    "\n",
    "코드와 그 결과는 특별히 지정된 콘텐츠 블록에 표시\n",
    "<kbd>shift</kbd> + <kbd>return</kbd> 또는 <kbd>&#9654;</kbd> 버튼으로 실행"
   ]
  },
  {
   "cell_type": "code",
   "execution_count": 1,
   "id": "57adfb82-99b2-4849-9a59-911062b70230",
   "metadata": {},
   "outputs": [
    {
     "data": {
      "text/plain": [
       "112"
      ]
     },
     "execution_count": 1,
     "metadata": {},
     "output_type": "execute_result"
    }
   ],
   "source": [
    "2 + 110"
   ]
  },
  {
   "cell_type": "code",
   "execution_count": 2,
   "id": "714f8aa0-4a55-4031-81d6-86fc7c4c8c21",
   "metadata": {},
   "outputs": [],
   "source": [
    "a = 10\n",
    "b = 20"
   ]
  },
  {
   "cell_type": "code",
   "execution_count": 3,
   "id": "1752deaf-87e2-4153-9ac7-3aa431478420",
   "metadata": {},
   "outputs": [],
   "source": [
    "z = a + b"
   ]
  },
  {
   "cell_type": "code",
   "execution_count": 4,
   "id": "f8468eac-2f81-4525-96de-9a3a8a00523d",
   "metadata": {},
   "outputs": [
    {
     "data": {
      "text/plain": [
       "30"
      ]
     },
     "execution_count": 4,
     "metadata": {},
     "output_type": "execute_result"
    }
   ],
   "source": [
    "z"
   ]
  },
  {
   "cell_type": "code",
   "execution_count": null,
   "id": "529bf617-a80c-4565-b9fe-9c969f9d7f9a",
   "metadata": {},
   "outputs": [],
   "source": []
  },
  {
   "cell_type": "markdown",
   "id": "6e053b80-9658-44ff-b050-49086aabcd08",
   "metadata": {
    "tags": []
   },
   "source": [
    "### Markdown Cells\n",
    "마크다운을 지원하는 셀\n",
    "\n",
    "- *italics* \n",
    "- **bold**\n",
    "- `code`\n",
    "- [links](https://jupyterlab.readthedocs.io/)\n",
    "- Inline LaTeX equations: $E = mc^{2}$\n",
    "\n",
    "\n",
    "\\begin{equation}\n",
    "e^x=\\sum_{i=0}^\\infty \\frac{1}{i!}x^i\n",
    "\\end{equation}"
   ]
  },
  {
   "cell_type": "markdown",
   "id": "02fcd57d-2475-4665-9a85-d3f7e7587fb7",
   "metadata": {},
   "source": [
    "### Raw Cells\n",
    "\n",
    "Raw Text"
   ]
  },
  {
   "cell_type": "raw",
   "id": "d15fb857-95b4-4af2-af24-52cf374be398",
   "metadata": {},
   "source": [
    "- *italics* \n",
    "- **bold**\n",
    "- `code`\n",
    "- [links](https://jupyterlab.readthedocs.io/)\n",
    "- Inline LaTeX equations: $E = mc^{2}$\n",
    "\n",
    "\\begin{equation}\n",
    "e^x=\\sum_{i=0}^\\infty \\frac{1}{i!}x^i\n",
    "\\end{equation}"
   ]
  },
  {
   "cell_type": "code",
   "execution_count": null,
   "id": "a8c3dd0c-722d-4155-b3ae-71a485697333",
   "metadata": {},
   "outputs": [],
   "source": []
  },
  {
   "cell_type": "markdown",
   "id": "5387c758-5cd8-49ef-836b-5ff5f14318b3",
   "metadata": {},
   "source": [
    "## shell 실행"
   ]
  },
  {
   "cell_type": "code",
   "execution_count": 5,
   "id": "f7e0ef9a-b45a-4656-add4-09cdd0f6ef4b",
   "metadata": {},
   "outputs": [],
   "source": [
    "!mkdir tmp"
   ]
  },
  {
   "cell_type": "code",
   "execution_count": 6,
   "id": "54f536b3-e642-41ee-b766-62b0377318d9",
   "metadata": {
    "scrolled": true
   },
   "outputs": [
    {
     "name": "stdout",
     "output_type": "stream",
     "text": [
      "P03_CH02_02_jupyter_tutorial.ipynb \u001b[1m\u001b[36mtmp\u001b[m\u001b[m\n"
     ]
    }
   ],
   "source": [
    "!ls"
   ]
  },
  {
   "cell_type": "code",
   "execution_count": 7,
   "id": "0403ad78-72f7-4261-86a6-95272a5f926d",
   "metadata": {
    "scrolled": true
   },
   "outputs": [
    {
     "name": "stdout",
     "output_type": "stream",
     "text": [
      "Requirement already satisfied: tqdm in /opt/homebrew/Caskroom/miniconda/base/lib/python3.10/site-packages (4.65.0)\n"
     ]
    }
   ],
   "source": [
    "!pip install tqdm"
   ]
  },
  {
   "cell_type": "code",
   "execution_count": 8,
   "id": "aac91360-5739-4eec-a694-02da65610236",
   "metadata": {},
   "outputs": [
    {
     "name": "stderr",
     "output_type": "stream",
     "text": [
      "100%|███████████████████████████████████████████████████████████| 20/20 [00:10<00:00,  1.97it/s]\n"
     ]
    }
   ],
   "source": [
    "import time\n",
    "from tqdm import tqdm\n",
    "\n",
    "for i in tqdm(range(20)):\n",
    "    time.sleep(.5)"
   ]
  },
  {
   "cell_type": "code",
   "execution_count": null,
   "id": "97567f7e-effe-4702-a0a2-cd3efdafc6fb",
   "metadata": {},
   "outputs": [],
   "source": []
  }
 ],
 "metadata": {
  "kernelspec": {
   "display_name": "Python 3 (ipykernel)",
   "language": "python",
   "name": "python3"
  },
  "language_info": {
   "codemirror_mode": {
    "name": "ipython",
    "version": 3
   },
   "file_extension": ".py",
   "mimetype": "text/x-python",
   "name": "python",
   "nbconvert_exporter": "python",
   "pygments_lexer": "ipython3",
   "version": "3.10.10"
  }
 },
 "nbformat": 4,
 "nbformat_minor": 5
}
