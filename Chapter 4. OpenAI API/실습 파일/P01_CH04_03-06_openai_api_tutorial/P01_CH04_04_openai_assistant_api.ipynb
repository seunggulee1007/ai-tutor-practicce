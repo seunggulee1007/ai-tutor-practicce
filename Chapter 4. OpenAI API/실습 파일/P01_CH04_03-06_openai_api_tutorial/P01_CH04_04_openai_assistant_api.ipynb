{
 "cells": [
  {
   "cell_type": "markdown",
   "metadata": {},
   "source": [
    "# Assistants API 사용 방법 알아보기"
   ]
  },
  {
   "cell_type": "markdown",
   "metadata": {},
   "source": [
    "새로운 [Assistants API](https://platform.openai.com/docs/assistants/overview)는 [Chat Completions API](https://platform.openai.com/docs/guides/text-generation/chat-completions-api)의 발전된 형태로, 보다 간단하게 assistant를 만들고, 개발자가 Code Interpreter 및 Retrieval과 같은 강력한 도구에 접근할 수 있도록 하는 것을 목적으로 합니다."
   ]
  },
  {
   "cell_type": "markdown",
   "metadata": {},
   "source": [
    "![Assistants API Diagram](images/assistants_overview_diagram.png)"
   ]
  },
  {
   "cell_type": "markdown",
   "metadata": {},
   "source": [
    "## Chat Completions API vs Assistants API\n",
    "\n",
    "**Chat Completions API**의 기본 단위는 `Messages`이며, 여기에 `Model`(`gpt-3.5-turbo`, `gpt-4` 등)을 사용하여 `Completion`을 수행합니다. 이 API는 가볍고 강력하지만 본질적으로 상태가 없기 때문에 대화 상태, 도구 정의, 검색 문서, 코드 실행을 수동으로 관리해야 합니다.\n",
    "\n",
    "**Assistants API**의 기본 단위는 다음과 같습니다:\n",
    "\n",
    "- 기본 모델, 지침, 도구, 문서(문맥)를 포함하는 `Assistants`,\n",
    "- 대화의 상태를 나타내는 `Threads`,\n",
    "- 텍스트 응답 및 다단계 도구 사용을 포함하여 `Thread`에서 `Assistant`의 실행을 구동하는 `Runs`.\n",
    "\n",
    "이러한 기능들을 사용하여 강력하고 상태가 있는 경험을 만드는 방법을 살펴보겠습니다."
   ]
  },
  {
   "cell_type": "markdown",
   "metadata": {},
   "source": [
    "## Setup\n",
    "\n",
    "### Python SDK"
   ]
  },
  {
   "cell_type": "code",
   "execution_count": null,
   "metadata": {},
   "outputs": [],
   "source": [
    "!pip install --upgrade openai"
   ]
  },
  {
   "cell_type": "code",
   "execution_count": null,
   "metadata": {},
   "outputs": [],
   "source": [
    "!pip show openai | grep Version"
   ]
  },
  {
   "cell_type": "markdown",
   "metadata": {},
   "source": [
    "### Pretty Printing Helper\n"
   ]
  },
  {
   "cell_type": "code",
   "execution_count": 1,
   "metadata": {},
   "outputs": [],
   "source": [
    "import json\n",
    "\n",
    "def show_json(obj):\n",
    "    display(json.loads(obj.model_dump_json()))"
   ]
  },
  {
   "cell_type": "markdown",
   "metadata": {},
   "source": [
    "## Complete Example with Assistants API\n"
   ]
  },
  {
   "cell_type": "markdown",
   "metadata": {},
   "source": [
    "### Assistants\n"
   ]
  },
  {
   "cell_type": "markdown",
   "metadata": {},
   "source": [
    "Assistants API를 시작하는 가장 쉬운 방법은 [Assistants Playground](https://platform.openai.com/playground)를 통하는 것입니다."
   ]
  },
  {
   "cell_type": "markdown",
   "metadata": {},
   "source": [
    "![Assistants Playground](images/assistants_overview_assistants_playground.png)\n"
   ]
  },
  {
   "cell_type": "markdown",
   "metadata": {},
   "source": [
    "assistant를 만들어 보겠습니다! [문서](https://platform.openai.com/docs/assistants/overview)에 있는 것처럼 수학 과외 선생님을 만들어 보겠습니다."
   ]
  },
  {
   "cell_type": "markdown",
   "metadata": {},
   "source": [
    "![Creating New Assistant](images/assistants_overview_new_assistant.png)\n"
   ]
  },
  {
   "cell_type": "markdown",
   "metadata": {},
   "source": [
    "생성한 assistant들은 [Assistants Dashboard](https://platform.openai.com/assistants)에서 볼 수 있습니다."
   ]
  },
  {
   "cell_type": "markdown",
   "metadata": {},
   "source": [
    "![Assistants Dashboard](images/assistants_overview_assistants_dashboard.png)\n"
   ]
  },
  {
   "cell_type": "markdown",
   "metadata": {},
   "source": [
    "또한 다음과 같이 Assistants API를 직접 사용하여 Assistant를 생성할 수도 있습니다:"
   ]
  },
  {
   "cell_type": "code",
   "execution_count": 2,
   "metadata": {},
   "outputs": [
    {
     "data": {
      "text/plain": [
       "{'id': 'asst_eZ2yeS87AJQw4cfstpjUXneU',\n",
       " 'created_at': 1703404228,\n",
       " 'description': None,\n",
       " 'file_ids': [],\n",
       " 'instructions': '너는 개인 수학 교사야. 질문에 한 문장 이하로 짧게 답해줘',\n",
       " 'metadata': {},\n",
       " 'model': 'gpt-4-1106-preview',\n",
       " 'name': 'Math Tutor',\n",
       " 'object': 'assistant',\n",
       " 'tools': []}"
      ]
     },
     "metadata": {},
     "output_type": "display_data"
    }
   ],
   "source": [
    "from openai import OpenAI\n",
    "\n",
    "client = OpenAI()\n",
    "\n",
    "assistant = client.beta.assistants.create(\n",
    "    name=\"Math Tutor\",\n",
    "    instructions=\"너는 개인 수학 교사야. 질문에 한 문장 이하로 짧게 답해줘\",\n",
    "    model=\"gpt-4-1106-preview\",\n",
    ")\n",
    "show_json(assistant)"
   ]
  },
  {
   "cell_type": "markdown",
   "metadata": {},
   "source": [
    "대시보드를 통해 Assistant를 생성하든 API를 사용하든, Assistant ID를 추적하는 것이 중요합니다. 이 ID를 통해 Threads와 Runs 전반에 걸쳐 Assistant를 참조하게 됩니다.\n"
   ]
  },
  {
   "cell_type": "markdown",
   "metadata": {},
   "source": [
    "다음으로, 새로운 Thread를 생성하고 그 안에 Message를 추가하겠습니다. 이렇게 하면 대화의 상태를 유지할 수 있어, 매번 전체 메시지 기록을 다시 보낼 필요가 없습니다."
   ]
  },
  {
   "cell_type": "markdown",
   "metadata": {},
   "source": [
    "### Threads\n"
   ]
  },
  {
   "cell_type": "markdown",
   "metadata": {},
   "source": [
    "새로운 Thread 생성하기"
   ]
  },
  {
   "cell_type": "code",
   "execution_count": 3,
   "metadata": {},
   "outputs": [
    {
     "data": {
      "text/plain": [
       "{'id': 'thread_MSSuluvFEkJg2gedb9kniwKi',\n",
       " 'created_at': 1703404248,\n",
       " 'metadata': {},\n",
       " 'object': 'thread'}"
      ]
     },
     "metadata": {},
     "output_type": "display_data"
    }
   ],
   "source": [
    "thread = client.beta.threads.create()\n",
    "show_json(thread)"
   ]
  },
  {
   "cell_type": "markdown",
   "metadata": {},
   "source": [
    "thread에 message 추가하기"
   ]
  },
  {
   "cell_type": "code",
   "execution_count": 4,
   "metadata": {},
   "outputs": [
    {
     "data": {
      "text/plain": [
       "{'id': 'msg_oaE9SUbM1PxfbWQ8kWaiT9kO',\n",
       " 'assistant_id': None,\n",
       " 'content': [{'text': {'annotations': [], 'value': \"방정식 '3x + 11 = 14'를 풀어줘\"},\n",
       "   'type': 'text'}],\n",
       " 'created_at': 1703404287,\n",
       " 'file_ids': [],\n",
       " 'metadata': {},\n",
       " 'object': 'thread.message',\n",
       " 'role': 'user',\n",
       " 'run_id': None,\n",
       " 'thread_id': 'thread_MSSuluvFEkJg2gedb9kniwKi'}"
      ]
     },
     "metadata": {},
     "output_type": "display_data"
    }
   ],
   "source": [
    "message = client.beta.threads.messages.create(\n",
    "    thread_id=thread.id,\n",
    "    role=\"user\",\n",
    "    content=\"방정식 '3x + 11 = 14'를 풀어줘\"\n",
    ")\n",
    "show_json(message)"
   ]
  },
  {
   "cell_type": "markdown",
   "metadata": {},
   "source": [
    "> **Note**\n",
    "> 매번 전체 기록을 보내지 않더라도, 각 Run마다 전체 대화 기록의 토큰에 대해 요금이 청구됩니다.\n"
   ]
  },
  {
   "cell_type": "markdown",
   "metadata": {},
   "source": [
    "### Runs\n",
    "\n",
    "우리가 만든 Thread가 앞서 만든 Assistant와 **연결되지 않았음**을 주목하세요! Thread는 Assistants와 독립적으로 존재하며, 이는 ChatGPT(모델/GPT에 thread가 연결되어 있는)를 사용해 본 사람들이 예상하는 것과 다를 수 있습니다.\n",
    "\n",
    "주어진 Thread에 대한 Assistant의 Completion을 얻으려면 Run을 생성해야 합니다. Run을 생성하면 Assistant에게 Thread의 메시지를 살펴보고 조치를 취하라는 지시가 됩니다. 단일 응답을 추가하거나 도구를 사용할 수 있습니다.\n",
    "\n",
    "> **참고**\n",
    "> Runs는 Assistants API와 Chat Completions API 사이의 주요 차이점입니다. Chat Completions에서는 모델이 단일 메시지로만 응답할 수 있는 반면, Assistants API에서는 Run을 통해 Assistant가 하나 또는 여러 도구를 사용하고 Thread에 여러 메시지를 추가할 수 있습니다.\n",
    "\n",
    "우리 Assistant에게 사용자에게 응답하도록 하려면 Run을 생성합시다. 앞서 언급했듯이, Assistant와 Thread를 _모두_ 지정해야 합니다."
   ]
  },
  {
   "cell_type": "code",
   "execution_count": 5,
   "metadata": {},
   "outputs": [
    {
     "data": {
      "text/plain": [
       "{'id': 'run_U12Y2WAZzrIfEorm0zn38hUy',\n",
       " 'assistant_id': 'asst_eZ2yeS87AJQw4cfstpjUXneU',\n",
       " 'cancelled_at': None,\n",
       " 'completed_at': None,\n",
       " 'created_at': 1703404356,\n",
       " 'expires_at': 1703404956,\n",
       " 'failed_at': None,\n",
       " 'file_ids': [],\n",
       " 'instructions': '너는 개인 수학 교사야. 질문에 한 문장 이하로 짧게 답해줘',\n",
       " 'last_error': None,\n",
       " 'metadata': {},\n",
       " 'model': 'gpt-4-1106-preview',\n",
       " 'object': 'thread.run',\n",
       " 'required_action': None,\n",
       " 'started_at': None,\n",
       " 'status': 'queued',\n",
       " 'thread_id': 'thread_MSSuluvFEkJg2gedb9kniwKi',\n",
       " 'tools': []}"
      ]
     },
     "metadata": {},
     "output_type": "display_data"
    }
   ],
   "source": [
    "run = client.beta.threads.runs.create(\n",
    "    thread_id=thread.id,\n",
    "    assistant_id=assistant.id,\n",
    ")\n",
    "show_json(run)"
   ]
  },
  {
   "cell_type": "markdown",
   "metadata": {},
   "source": [
    "Chat Completions API에서 완성을 생성하는 것과 달리, **Run을 생성하는 것은 비동기 작업입니다**. 이 작업은 Run의 메타데이터와 함께 즉시 반환되며, 여기에는 처음에 `queued`로 설정된 `status`가 포함됩니다. Assistant가 도구 사용과 메시지 추가와 같은 작업을 수행함에 따라 `status`가 업데이트됩니다.\n",
    "\n",
    "Assistant가 처리를 완료했는지 알기 위해, 우리는 Run을 반복적으로 폴링할 수 있습니다. (스트리밍 지원이 곧 제공될 예정입니다!) 여기서는 `queued` 또는 `in_progress` 상태만 확인하지만, 실제로 Run은 사용자에게 표시할 수 있는 [다양한 상태 변경](https://platform.openai.com/docs/api-reference/runs/object#runs/object-status)을 겪을 수 있습니다. (이것들을 Steps라고 하며 나중에 다룰 것입니다.)"
   ]
  },
  {
   "cell_type": "code",
   "execution_count": 6,
   "metadata": {},
   "outputs": [],
   "source": [
    "import time\n",
    "\n",
    "def wait_on_run(run, thread):\n",
    "    while run.status == \"queued\" or run.status == \"in_progress\":\n",
    "        run = client.beta.threads.runs.retrieve(\n",
    "            thread_id=thread.id,\n",
    "            run_id=run.id,\n",
    "        )\n",
    "        time.sleep(0.5)\n",
    "    return run"
   ]
  },
  {
   "cell_type": "code",
   "execution_count": 7,
   "metadata": {},
   "outputs": [
    {
     "data": {
      "text/plain": [
       "{'id': 'run_U12Y2WAZzrIfEorm0zn38hUy',\n",
       " 'assistant_id': 'asst_eZ2yeS87AJQw4cfstpjUXneU',\n",
       " 'cancelled_at': None,\n",
       " 'completed_at': 1703404357,\n",
       " 'created_at': 1703404356,\n",
       " 'expires_at': None,\n",
       " 'failed_at': None,\n",
       " 'file_ids': [],\n",
       " 'instructions': '너는 개인 수학 교사야. 질문에 한 문장 이하로 짧게 답해줘',\n",
       " 'last_error': None,\n",
       " 'metadata': {},\n",
       " 'model': 'gpt-4-1106-preview',\n",
       " 'object': 'thread.run',\n",
       " 'required_action': None,\n",
       " 'started_at': 1703404356,\n",
       " 'status': 'completed',\n",
       " 'thread_id': 'thread_MSSuluvFEkJg2gedb9kniwKi',\n",
       " 'tools': []}"
      ]
     },
     "metadata": {},
     "output_type": "display_data"
    }
   ],
   "source": [
    "run = wait_on_run(run, thread)\n",
    "show_json(run)"
   ]
  },
  {
   "cell_type": "markdown",
   "metadata": {},
   "source": [
    "### Messages\n"
   ]
  },
  {
   "cell_type": "markdown",
   "metadata": {},
   "source": [
    "Run이 완료되었으므로, Assistant가 무엇을 추가했는지 보기 위해 Thread 안의 메시지들을 나열할 수 있습니다."
   ]
  },
  {
   "cell_type": "code",
   "execution_count": 8,
   "metadata": {},
   "outputs": [
    {
     "data": {
      "text/plain": [
       "{'data': [{'id': 'msg_VgcejjCyZfB7Rjfvis57soF3',\n",
       "   'assistant_id': 'asst_eZ2yeS87AJQw4cfstpjUXneU',\n",
       "   'content': [{'text': {'annotations': [], 'value': 'x = 1'},\n",
       "     'type': 'text'}],\n",
       "   'created_at': 1703404357,\n",
       "   'file_ids': [],\n",
       "   'metadata': {},\n",
       "   'object': 'thread.message',\n",
       "   'role': 'assistant',\n",
       "   'run_id': 'run_U12Y2WAZzrIfEorm0zn38hUy',\n",
       "   'thread_id': 'thread_MSSuluvFEkJg2gedb9kniwKi'},\n",
       "  {'id': 'msg_oaE9SUbM1PxfbWQ8kWaiT9kO',\n",
       "   'assistant_id': None,\n",
       "   'content': [{'text': {'annotations': [],\n",
       "      'value': \"방정식 '3x + 11 = 14'를 풀어줘\"},\n",
       "     'type': 'text'}],\n",
       "   'created_at': 1703404287,\n",
       "   'file_ids': [],\n",
       "   'metadata': {},\n",
       "   'object': 'thread.message',\n",
       "   'role': 'user',\n",
       "   'run_id': None,\n",
       "   'thread_id': 'thread_MSSuluvFEkJg2gedb9kniwKi'}],\n",
       " 'object': 'list',\n",
       " 'first_id': 'msg_VgcejjCyZfB7Rjfvis57soF3',\n",
       " 'last_id': 'msg_oaE9SUbM1PxfbWQ8kWaiT9kO',\n",
       " 'has_more': False}"
      ]
     },
     "metadata": {},
     "output_type": "display_data"
    }
   ],
   "source": [
    "messages = client.beta.threads.messages.list(thread_id=thread.id)\n",
    "show_json(messages)"
   ]
  },
  {
   "cell_type": "markdown",
   "metadata": {},
   "source": [
    "보시다시피 메시지들은 역시간 순서로 정렬되어 있습니다 - 이렇게 함으로써 가장 최근의 결과가 항상 첫 번째 '페이지'에 있게 됩니다(결과는 페이지네이션 될 수 있으므로). 이는 Chat Completions API의 메시지 순서와 반대이므로 주의해야 합니다."
   ]
  },
  {
   "cell_type": "markdown",
   "metadata": {},
   "source": [
    "우리의 Assistant에게 결과에 대해 좀 더 설명해달라고 요청해 보겠습니다!"
   ]
  },
  {
   "cell_type": "code",
   "execution_count": 9,
   "metadata": {},
   "outputs": [
    {
     "data": {
      "text/plain": [
       "{'data': [{'id': 'msg_yEOGmfQafopi1PXqe2D10XdV',\n",
       "   'assistant_id': 'asst_eZ2yeS87AJQw4cfstpjUXneU',\n",
       "   'content': [{'text': {'annotations': [],\n",
       "      'value': '방정식 3x + 11 = 14에서 11을 양변에서 빼면 3x = 3이 되고, 양변을 3으로 나누면 x = 1이 됩니다.'},\n",
       "     'type': 'text'}],\n",
       "   'created_at': 1703404598,\n",
       "   'file_ids': [],\n",
       "   'metadata': {},\n",
       "   'object': 'thread.message',\n",
       "   'role': 'assistant',\n",
       "   'run_id': 'run_Up3l1shv2dWi62zEZOl4OiDK',\n",
       "   'thread_id': 'thread_MSSuluvFEkJg2gedb9kniwKi'}],\n",
       " 'object': 'list',\n",
       " 'first_id': 'msg_yEOGmfQafopi1PXqe2D10XdV',\n",
       " 'last_id': 'msg_yEOGmfQafopi1PXqe2D10XdV',\n",
       " 'has_more': False}"
      ]
     },
     "metadata": {},
     "output_type": "display_data"
    }
   ],
   "source": [
    "# Create a message to append to our thread\n",
    "message = client.beta.threads.messages.create(\n",
    "    thread_id=thread.id, role=\"user\", content=\"설명해 주시겠어요?\"\n",
    ")\n",
    "\n",
    "# Execute our run\n",
    "run = client.beta.threads.runs.create(\n",
    "    thread_id=thread.id,\n",
    "    assistant_id=assistant.id,\n",
    ")\n",
    "\n",
    "# Wait for completion\n",
    "wait_on_run(run, thread)\n",
    "\n",
    "# Retrieve all the messages added after our last user message\n",
    "messages = client.beta.threads.messages.list(\n",
    "    thread_id=thread.id, order=\"asc\", after=message.id\n",
    ")\n",
    "show_json(messages)"
   ]
  },
  {
   "cell_type": "markdown",
   "metadata": {},
   "source": [
    "이것이 간단한 예제를 위해 응답을 받기까지 많은 단계가 필요한 것처럼 느껴질 수 있습니다. 그러나, 우리는 코드를 거의 변경하지 않고도 우리의 Assistant에 매우 강력한 기능을 추가할 수 있는 방법을 곧 보게 될 것입니다!"
   ]
  },
  {
   "cell_type": "markdown",
   "metadata": {},
   "source": [
    "### Example\n"
   ]
  },
  {
   "cell_type": "markdown",
   "metadata": {},
   "source": [
    "이 모든 것을 어떻게 결합할 수 있는지 살펴보겠습니다. 아래는 생성한 Assistant를 사용하기 위해 필요한 모든 코드입니다.\n",
    "\n",
    "우리가 이미 수학 Assistant를 만들었기 때문에, 그 ID를 `MATH_ASSISTANT_ID`에 저장했습니다. 그런 다음 두 개의 함수를 정의했습니다:\n",
    "\n",
    "- `submit_message`: Thread에 Message를 생성한 다음, 새로운 Run을 시작하고 반환합니다.\n",
    "- `get_response`: Thread의 메시지 목록을 반환합니다."
   ]
  },
  {
   "cell_type": "code",
   "execution_count": 10,
   "metadata": {},
   "outputs": [],
   "source": [
    "from openai import OpenAI\n",
    "\n",
    "MATH_ASSISTANT_ID = assistant.id  # or a hard-coded ID like \"asst-...\"\n",
    "\n",
    "client = OpenAI()\n",
    "\n",
    "def submit_message(assistant_id, thread, user_message):\n",
    "    client.beta.threads.messages.create(\n",
    "        thread_id=thread.id, role=\"user\", content=user_message\n",
    "    )\n",
    "    return client.beta.threads.runs.create(\n",
    "        thread_id=thread.id,\n",
    "        assistant_id=assistant_id,\n",
    "    )\n",
    "\n",
    "\n",
    "def get_response(thread):\n",
    "    return client.beta.threads.messages.list(thread_id=thread.id, order=\"asc\")"
   ]
  },
  {
   "cell_type": "markdown",
   "metadata": {},
   "source": [
    "또한 재사용할 수 있는 `create_thread_and_run` 함수를 정의했는데, 이는 실제로 우리 API의 [`client.beta.threads.create_and_run`](https://platform.openai.com/docs/api-reference/runs/createThreadAndRun) 복합 함수와 거의 동일합니다. 마지막으로, 우리는 각각의 가상 사용자 요청을 새로운 Thread에 제출할 수 있습니다.\n",
    "\n",
    "이 모든 API 호출은 비동기 작업이라는 점에 유의하세요; 이는 우리가 `asyncio`와 같은 비동기 라이브러리의 사용 없이도 실제로 코드에서 비동기 동작을 얻을 수 있음을 의미합니다!"
   ]
  },
  {
   "cell_type": "code",
   "execution_count": 11,
   "metadata": {},
   "outputs": [],
   "source": [
    "def create_thread_and_run(user_input):\n",
    "    thread = client.beta.threads.create()\n",
    "    run = submit_message(MATH_ASSISTANT_ID, thread, user_input)\n",
    "    return thread, run\n",
    "\n",
    "\n",
    "# Emulating concurrent user requests\n",
    "thread1, run1 = create_thread_and_run(\n",
    "    \"방정식 '3x + 11 = 14'를 풀어줘\"\n",
    ")\n",
    "thread2, run2 = create_thread_and_run(\"선형대수에 대해 설명해줘\")\n",
    "thread3, run3 = create_thread_and_run(\"나는 수학을 싫어해. 어떻게 하면 좋을까?\")\n",
    "\n",
    "# Now all Runs are executing..."
   ]
  },
  {
   "cell_type": "markdown",
   "metadata": {},
   "source": [
    "모든 Run이 진행되고 나면, 각각을 기다린 후 응답을 받을 수 있습니다."
   ]
  },
  {
   "cell_type": "code",
   "execution_count": 12,
   "metadata": {},
   "outputs": [
    {
     "name": "stdout",
     "output_type": "stream",
     "text": [
      "# Messages\n",
      "user: 방정식 '3x + 11 = 14'를 풀어줘\n",
      "assistant: x = 1\n",
      "\n",
      "# Messages\n",
      "user: 선형대수에 대해 설명해줘\n",
      "assistant: 선형대수학은 벡터 공간과 이러한 공간에서의 변환을 다루는 수학의 한 분야입니다.\n",
      "\n",
      "# Messages\n",
      "user: 나는 수학을 싫어해. 어떻게 하면 좋을까?\n",
      "assistant: 수학과 관련된 재미있는 활동이나 실생활 연관 문제를 통해 흥미를 느낄 수 있는 부분부터 시작해 보세요.\n",
      "\n",
      "# Messages\n",
      "user: 나는 수학을 싫어해. 어떻게 하면 좋을까?\n",
      "assistant: 수학과 관련된 재미있는 활동이나 실생활 연관 문제를 통해 흥미를 느낄 수 있는 부분부터 시작해 보세요.\n",
      "user: 고마워\n",
      "assistant: 언제나 도와드릴 준비가 되어 있으니 질문이 있으면 언제든지 말씀해 주세요!\n",
      "\n"
     ]
    }
   ],
   "source": [
    "import time\n",
    "\n",
    "# Pretty printing helper\n",
    "def pretty_print(messages):\n",
    "    print(\"# Messages\")\n",
    "    for m in messages:\n",
    "        print(f\"{m.role}: {m.content[0].text.value}\")\n",
    "    print()\n",
    "\n",
    "\n",
    "# Waiting in a loop\n",
    "def wait_on_run(run, thread):\n",
    "    while run.status == \"queued\" or run.status == \"in_progress\":\n",
    "        run = client.beta.threads.runs.retrieve(\n",
    "            thread_id=thread.id,\n",
    "            run_id=run.id,\n",
    "        )\n",
    "        time.sleep(0.5)\n",
    "    return run\n",
    "\n",
    "\n",
    "# Wait for Run 1\n",
    "run1 = wait_on_run(run1, thread1)\n",
    "pretty_print(get_response(thread1))\n",
    "\n",
    "# Wait for Run 2\n",
    "run2 = wait_on_run(run2, thread2)\n",
    "pretty_print(get_response(thread2))\n",
    "\n",
    "# Wait for Run 3\n",
    "run3 = wait_on_run(run3, thread3)\n",
    "pretty_print(get_response(thread3))\n",
    "\n",
    "# Thank our assistant on Thread 3 :)\n",
    "run4 = submit_message(MATH_ASSISTANT_ID, thread3, \"고마워\")\n",
    "run4 = wait_on_run(run4, thread3)\n",
    "pretty_print(get_response(thread3))"
   ]
  },
  {
   "cell_type": "markdown",
   "metadata": {},
   "source": [
    "끝났습니다!\n",
    "\n",
    "여러분은 이 코드가 실제로는 우리의 수학 Assistant에 특화되어 있지 않다는 것을 눈치챘을 수도 있습니다... Assistant ID를 변경하기만 하면 어떤 새로운 Assistant에 대해서도 이 코드가 작동합니다! 이것이 Assistants API의 힘입니다."
   ]
  },
  {
   "cell_type": "markdown",
   "metadata": {},
   "source": [
    "## Tools\n",
    "\n",
    "Assistants API의 핵심 기능 중 하나는 Code Interpreter, Retrieval 및 사용자 정의 Functions과 같은 도구를 우리의 Assistants에 장착할 수 있는 능력입니다. 각각에 대해 살펴보겠습니다.\n",
    "\n",
    "### Code Interpreter\n",
    "\n",
    "우리의 수학 과외 선생님에게 [Code Interpreter](https://platform.openai.com/docs/assistants/tools/code-interpreter) 도구를 장착해보겠습니다. 이 작업은 대시보드에서 수행할 수 있습니다...\n"
   ]
  },
  {
   "cell_type": "markdown",
   "metadata": {},
   "source": [
    "![Enabling code interpreter](images/assistants_overview_enable_code_interpreter.png)\n"
   ]
  },
  {
   "cell_type": "markdown",
   "metadata": {},
   "source": [
    "...또는 Assistant ID를 사용하여 API를 통해 실행할 수 있습니다."
   ]
  },
  {
   "cell_type": "code",
   "execution_count": 13,
   "metadata": {},
   "outputs": [
    {
     "data": {
      "text/plain": [
       "{'id': 'asst_eZ2yeS87AJQw4cfstpjUXneU',\n",
       " 'created_at': 1703404228,\n",
       " 'description': None,\n",
       " 'file_ids': [],\n",
       " 'instructions': '너는 개인 수학 교사야. 질문에 한 문장 이하로 짧게 답해줘',\n",
       " 'metadata': {},\n",
       " 'model': 'gpt-4-1106-preview',\n",
       " 'name': 'Math Tutor',\n",
       " 'object': 'assistant',\n",
       " 'tools': [{'type': 'code_interpreter'}]}"
      ]
     },
     "metadata": {},
     "output_type": "display_data"
    }
   ],
   "source": [
    "assistant = client.beta.assistants.update(\n",
    "    MATH_ASSISTANT_ID,\n",
    "    tools=[{\"type\": \"code_interpreter\"}],\n",
    ")\n",
    "show_json(assistant)"
   ]
  },
  {
   "cell_type": "markdown",
   "metadata": {},
   "source": [
    "이제 Assistant에게 새 도구를 사용하도록 요청해 보겠습니다."
   ]
  },
  {
   "cell_type": "code",
   "execution_count": 14,
   "metadata": {},
   "outputs": [
    {
     "name": "stdout",
     "output_type": "stream",
     "text": [
      "# Messages\n",
      "user: 코드를 사용하여 처음 20개의 피보나치 숫자를 생성해줘\n",
      "assistant: 처음 20개의 피보나치 수는 다음과 같습니다: \\[0, 1, 1, 2, 3, 5, 8, 13, 21, 34, 55, 89, 144, 233, 377, 610, 987, 1597, 2584, 4181\\].\n",
      "\n"
     ]
    }
   ],
   "source": [
    "thread, run = create_thread_and_run(\n",
    "    \"코드를 사용하여 처음 20개의 피보나치 숫자를 생성해줘\"\n",
    ")\n",
    "run = wait_on_run(run, thread)\n",
    "pretty_print(get_response(thread))"
   ]
  },
  {
   "cell_type": "markdown",
   "metadata": {},
   "source": [
    "그리고 끝났습니다! Assistant는 백그라운드에서 Code Interpreter를 사용했고, 최종 응답을 제공했습니다.\n",
    "\n",
    "일부 사용 사례에서는 이 정도면 충분할 수 있습니다. 하지만 Assistant가 정확히 무엇을 하는지 더 자세히 알고 싶다면 Run의 Steps를 살펴볼 수 있습니다.\n",
    "\n",
    "### Steps"
   ]
  },
  {
   "cell_type": "markdown",
   "metadata": {},
   "source": [
    "Run은 하나 이상의 Steps로 구성됩니다. Run과 마찬가지로 각 Step에는 조회할 수 있는 `status`가 있습니다. 이는 사용자에게 Step의 진행 상황을 표시하는 데 유용합니다(예: Assistant가 코드를 작성하거나 검색을 수행하는 동안 스피너 표시)."
   ]
  },
  {
   "cell_type": "code",
   "execution_count": 15,
   "metadata": {},
   "outputs": [],
   "source": [
    "run_steps = client.beta.threads.runs.steps.list(\n",
    "    thread_id=thread.id, run_id=run.id, order=\"asc\"\n",
    ")"
   ]
  },
  {
   "cell_type": "markdown",
   "metadata": {},
   "source": [
    "각 Step의 `step_details`를 살펴보겠습니다."
   ]
  },
  {
   "cell_type": "code",
   "execution_count": 16,
   "metadata": {},
   "outputs": [
    {
     "data": {
      "text/plain": [
       "{'tool_calls': [{'id': 'call_OqsoQUA66ARJpz4hVT2Ajt8u',\n",
       "   'code_interpreter': {'input': 'def fibonacci(n):\\n    fib_series = [0, 1]\\n    while len(fib_series) < n:\\n        fib_series.append(fib_series[-1] + fib_series[-2])\\n    return fib_series[:n]\\n\\n# Generate the first 20 Fibonacci numbers\\nfirst_20_fibonacci = fibonacci(20)\\nfirst_20_fibonacci',\n",
       "    'outputs': [{'logs': '[0,\\n 1,\\n 1,\\n 2,\\n 3,\\n 5,\\n 8,\\n 13,\\n 21,\\n 34,\\n 55,\\n 89,\\n 144,\\n 233,\\n 377,\\n 610,\\n 987,\\n 1597,\\n 2584,\\n 4181]',\n",
       "      'type': 'logs'}]},\n",
       "   'type': 'code_interpreter'}],\n",
       " 'type': 'tool_calls'}"
      ]
     },
     "metadata": {},
     "output_type": "display_data"
    },
    {
     "name": "stdout",
     "output_type": "stream",
     "text": [
      "null\n"
     ]
    },
    {
     "data": {
      "text/plain": [
       "{'message_creation': {'message_id': 'msg_JN0KKzxT9hk0Q84J4692hyKS'},\n",
       " 'type': 'message_creation'}"
      ]
     },
     "metadata": {},
     "output_type": "display_data"
    },
    {
     "name": "stdout",
     "output_type": "stream",
     "text": [
      "null\n"
     ]
    }
   ],
   "source": [
    "for step in run_steps.data:\n",
    "    step_details = step.step_details\n",
    "    print(json.dumps(show_json(step_details), indent=4))"
   ]
  },
  {
   "cell_type": "markdown",
   "metadata": {},
   "source": [
    "두 Step의 `step_details`를 볼 수 있습니다:\n",
    "\n",
    "1. `tool_calls` (하나의 Step에 하나 이상이 있을 수 있으므로 복수형)\n",
    "2. `message_creation`\n",
    "\n",
    "첫 번째 Step은 `tool_calls`로, 특히 `code_interpreter`를 사용하는데 여기에는 다음이 포함됩니다:\n",
    "\n",
    "- 도구가 호출되기 전에 생성된 Python 코드인 `input`, 그리고\n",
    "- Code Interpreter를 실행한 결과인 `output`.\n",
    "\n",
    "두 번째 Step은 `message_creation`으로, 사용자에게 결과를 전달하기 위해 Thread에 추가된 `message`가 포함되어 있습니다."
   ]
  },
  {
   "cell_type": "markdown",
   "metadata": {},
   "source": [
    "### Retrieval\n",
    "\n",
    "Assistants API의 또 다른 강력한 도구는 [Retrieval](https://platform.openai.com/docs/assistants/tools/knowledge-retrieval)입니다: 질문에 답할 때 assistant가 지식 기반으로 사용할 파일을 업로드하는 기능입니다. 이 기능도 대시보드 또는 API에서 활성화할 수 있으며, 사용하고자 하는 파일을 업로드할 수 있습니다."
   ]
  },
  {
   "cell_type": "markdown",
   "metadata": {},
   "source": [
    "![Enabling retrieval](images/assistants_overview_enable_retrieval.png)\n"
   ]
  },
  {
   "cell_type": "code",
   "execution_count": 17,
   "metadata": {},
   "outputs": [
    {
     "data": {
      "text/plain": [
       "{'id': 'asst_eZ2yeS87AJQw4cfstpjUXneU',\n",
       " 'created_at': 1703404228,\n",
       " 'description': None,\n",
       " 'file_ids': ['file-x3Uky6bI3OVlauSwA48SXTtW'],\n",
       " 'instructions': '너는 개인 수학 교사야. 질문에 한 문장 이하로 짧게 답해줘',\n",
       " 'metadata': {},\n",
       " 'model': 'gpt-4-1106-preview',\n",
       " 'name': 'Math Tutor',\n",
       " 'object': 'assistant',\n",
       " 'tools': [{'type': 'code_interpreter'}, {'type': 'retrieval'}]}"
      ]
     },
     "metadata": {},
     "output_type": "display_data"
    }
   ],
   "source": [
    "# Upload the file\n",
    "file = client.files.create(\n",
    "    file=open(\n",
    "        \"data/language_models_are_unsupervised_multitask_learners.pdf\",\n",
    "        \"rb\",\n",
    "    ),\n",
    "    purpose=\"assistants\",\n",
    ")\n",
    "# Update Assistant\n",
    "assistant = client.beta.assistants.update(\n",
    "    MATH_ASSISTANT_ID,\n",
    "    tools=[{\"type\": \"code_interpreter\"}, {\"type\": \"retrieval\"}],\n",
    "    file_ids=[file.id],\n",
    ")\n",
    "show_json(assistant)"
   ]
  },
  {
   "cell_type": "code",
   "execution_count": 18,
   "metadata": {},
   "outputs": [
    {
     "name": "stdout",
     "output_type": "stream",
     "text": [
      "# Messages\n",
      "user: 이 ML 논문의 배경이 되는 수학 개념은 뭐야? 두 문장으로 설명해줘\n",
      "assistant: The mathematical concept underlying the ML paper is language modeling, which is framed as unsupervised distribution estimation using sequences of symbols to factorize joint probabilities into the product of conditional probabilities【13†source】.\n",
      "\n"
     ]
    }
   ],
   "source": [
    "thread, run = create_thread_and_run(\n",
    "    \"이 ML 논문의 배경이 되는 수학 개념은 뭐야? 두 문장으로 설명해줘\"\n",
    ")\n",
    "run = wait_on_run(run, thread)\n",
    "pretty_print(get_response(thread))"
   ]
  },
  {
   "cell_type": "markdown",
   "metadata": {},
   "source": [
    "> **Note**\n",
    "> Retrieval에는 [Annotations](https://platform.openai.com/docs/assistants/how-it-works/managing-threads-and-messages)와 같은 더 복잡한 기능들이 있으며, 이는 다른 쿡북에서 다룰 수 있습니다.\n"
   ]
  },
  {
   "cell_type": "markdown",
   "metadata": {},
   "source": [
    "### Functions\n",
    "\n",
    "Assistant에 대한 마지막 강력한 도구로, 사용자 정의 [Functions](https://platform.openai.com/docs/assistants/tools/function-calling) (Chat Completions API의 [Function Calling](https://platform.openai.com/docs/guides/function-calling)과 매우 비슷)을 지정할 수 있습니다. Run 동안 Assistant는 지정한 하나 이상의 함수를 호출하려고 할 수 있습니다. 그러면 함수를 호출하고 결과를 Assistant에게 다시 제공하는 책임이 사용자에게 있습니다.\n",
    "\n",
    "우리의 수학 과외 선생님을 위한 `display_quiz()` 함수를 정의하는 예제를 살펴보겠습니다.\n",
    "\n",
    "이 함수는 `title`과 `question` 배열을 가져와서 퀴즈를 표시하고 각각에 대해 사용자로부터 입력을 받습니다:\n",
    "\n",
    "- `title`\n",
    "- `questions`\n",
    "  - `question_text`\n",
    "  - `question_type`: [`MULTIPLE_CHOICE`, `FREE_RESPONSE`]\n",
    "  - `choices`: [\"선택지 1\", \"선택지 2\", ...]\n",
    "\n",
    "불행히도 Python Notebook 내에서 사용자 입력을 얻는 방법을 모르므로, `get_mock_response...`으로 응답을 모방할 것입니다. 여기서 실제 사용자의 입력을 받게 될 것입니다."
   ]
  },
  {
   "cell_type": "code",
   "execution_count": 21,
   "metadata": {},
   "outputs": [],
   "source": [
    "def get_mock_response_from_user_multiple_choice():\n",
    "    return \"a\"\n",
    "\n",
    "\n",
    "def get_mock_response_from_user_free_response():\n",
    "    return \"I don't know.\"\n",
    "\n",
    "\n",
    "def display_quiz(title, questions):\n",
    "    print(\"Quiz:\", title)\n",
    "    print()\n",
    "    responses = []\n",
    "\n",
    "    for q in questions:\n",
    "        print(q[\"question_text\"])\n",
    "        response = \"\"\n",
    "\n",
    "        # If multiple choice, print options\n",
    "        if q[\"question_type\"] == \"MULTIPLE_CHOICE\":\n",
    "            for i, choice in enumerate(q[\"choices\"]):\n",
    "                print(f\"{i}. {choice}\")\n",
    "            response = get_mock_response_from_user_multiple_choice()\n",
    "\n",
    "        # Otherwise, just get response\n",
    "        elif q[\"question_type\"] == \"FREE_RESPONSE\":\n",
    "            response = get_mock_response_from_user_free_response()\n",
    "\n",
    "        responses.append(response)\n",
    "        print()\n",
    "\n",
    "    return responses"
   ]
  },
  {
   "cell_type": "markdown",
   "metadata": {},
   "source": [
    "다음은 샘플 퀴즈가 어떻게 보일지에 대한 예입니다:"
   ]
  },
  {
   "cell_type": "code",
   "execution_count": 22,
   "metadata": {},
   "outputs": [
    {
     "name": "stdout",
     "output_type": "stream",
     "text": [
      "Quiz: Sample Quiz\n",
      "\n",
      "이름이 뭐야?\n",
      "\n",
      "가장 좋아하는 색이 뭐야?\n",
      "0. 빨간색\n",
      "1. 파랑색\n",
      "2. 초록색\n",
      "3. 노란색\n",
      "\n",
      "Responses: [\"I don't know.\", 'a']\n"
     ]
    }
   ],
   "source": [
    "responses = display_quiz(\n",
    "    \"Sample Quiz\",\n",
    "    [\n",
    "        {\"question_text\": \"이름이 뭐야?\", \"question_type\": \"FREE_RESPONSE\"},\n",
    "        {\n",
    "            \"question_text\": \"가장 좋아하는 색이 뭐야?\",\n",
    "            \"question_type\": \"MULTIPLE_CHOICE\",\n",
    "            \"choices\": [\"빨간색\", \"파랑색\", \"초록색\", \"노란색\"],\n",
    "        },\n",
    "    ],\n",
    ")\n",
    "print(\"Responses:\", responses)"
   ]
  },
  {
   "cell_type": "markdown",
   "metadata": {},
   "source": [
    "이제, Assistant가 호출할 수 있도록 이 함수의 인터페이스를 JSON 형식으로 정의해 보겠습니다:"
   ]
  },
  {
   "cell_type": "code",
   "execution_count": 23,
   "metadata": {},
   "outputs": [],
   "source": [
    "function_json = {\n",
    "    \"name\": \"display_quiz\",\n",
    "    \"description\": \"학생에게 퀴즈를 표시하고 학생의 응답을 반환합니다. 하나의 퀴즈에 여러 개의 질문이 포함될 수 있습니다.\",\n",
    "    \"parameters\": {\n",
    "        \"type\": \"object\",\n",
    "        \"properties\": {\n",
    "            \"title\": {\"type\": \"string\"},\n",
    "            \"questions\": {\n",
    "                \"type\": \"array\",\n",
    "                \"description\": \"제목과 옵션(객관식인 경우)이 있는 질문의 배열입니다.\",\n",
    "                \"items\": {\n",
    "                    \"type\": \"object\",\n",
    "                    \"properties\": {\n",
    "                        \"question_text\": {\"type\": \"string\"},\n",
    "                        \"question_type\": {\n",
    "                            \"type\": \"string\",\n",
    "                            \"enum\": [\"MULTIPLE_CHOICE\", \"FREE_RESPONSE\"],\n",
    "                        },\n",
    "                        \"choices\": {\"type\": \"array\", \"items\": {\"type\": \"string\"}},\n",
    "                    },\n",
    "                    \"required\": [\"question_text\"],\n",
    "                },\n",
    "            },\n",
    "        },\n",
    "        \"required\": [\"title\", \"questions\"],\n",
    "    },\n",
    "}"
   ]
  },
  {
   "cell_type": "markdown",
   "metadata": {},
   "source": [
    "다시 한번, 대시보드나 API를 통해 우리의 Assistant를 업데이트해 보겠습니다."
   ]
  },
  {
   "cell_type": "markdown",
   "metadata": {},
   "source": [
    "![Enabling custom function](images/assistants_overview_enable_function.png)"
   ]
  },
  {
   "cell_type": "code",
   "execution_count": 24,
   "metadata": {},
   "outputs": [
    {
     "data": {
      "text/plain": [
       "{'id': 'asst_eZ2yeS87AJQw4cfstpjUXneU',\n",
       " 'created_at': 1703404228,\n",
       " 'description': None,\n",
       " 'file_ids': ['file-x3Uky6bI3OVlauSwA48SXTtW'],\n",
       " 'instructions': '너는 개인 수학 교사야. 질문에 한 문장 이하로 짧게 답해줘',\n",
       " 'metadata': {},\n",
       " 'model': 'gpt-4-1106-preview',\n",
       " 'name': 'Math Tutor',\n",
       " 'object': 'assistant',\n",
       " 'tools': [{'type': 'code_interpreter'},\n",
       "  {'type': 'retrieval'},\n",
       "  {'function': {'name': 'display_quiz',\n",
       "    'description': '학생에게 퀴즈를 표시하고 학생의 응답을 반환합니다. 하나의 퀴즈에 여러 개의 질문이 포함될 수 있습니다.',\n",
       "    'parameters': {'type': 'object',\n",
       "     'properties': {'title': {'type': 'string'},\n",
       "      'questions': {'type': 'array',\n",
       "       'description': '제목과 옵션(객관식인 경우)이 있는 질문의 배열입니다.',\n",
       "       'items': {'type': 'object',\n",
       "        'properties': {'question_text': {'type': 'string'},\n",
       "         'question_type': {'type': 'string',\n",
       "          'enum': ['MULTIPLE_CHOICE', 'FREE_RESPONSE']},\n",
       "         'choices': {'type': 'array', 'items': {'type': 'string'}}},\n",
       "        'required': ['question_text']}}},\n",
       "     'required': ['title', 'questions']}},\n",
       "   'type': 'function'}]}"
      ]
     },
     "metadata": {},
     "output_type": "display_data"
    }
   ],
   "source": [
    "assistant = client.beta.assistants.update(\n",
    "    MATH_ASSISTANT_ID,\n",
    "    tools=[\n",
    "        {\"type\": \"code_interpreter\"},\n",
    "        {\"type\": \"retrieval\"},\n",
    "        {\"type\": \"function\", \"function\": function_json},\n",
    "    ],\n",
    ")\n",
    "show_json(assistant)"
   ]
  },
  {
   "cell_type": "markdown",
   "metadata": {},
   "source": [
    "이제 퀴즈를 요청해 봅시다."
   ]
  },
  {
   "cell_type": "code",
   "execution_count": 25,
   "metadata": {},
   "outputs": [
    {
     "data": {
      "text/plain": [
       "'requires_action'"
      ]
     },
     "execution_count": 25,
     "metadata": {},
     "output_type": "execute_result"
    }
   ],
   "source": [
    "thread, run = create_thread_and_run(\n",
    "    \"두 가지 질문으로 퀴즈를 만들어줘. 하나는 주관식, 하나는 객관식으로, 그런 다음 답변에 대한 피드백을 보내줘\"\n",
    ")\n",
    "run = wait_on_run(run, thread)\n",
    "run.status"
   ]
  },
  {
   "cell_type": "markdown",
   "metadata": {},
   "source": [
    "하지만 이제 Run의 `status`를 확인하면 `requires_action`이 표시됩니다! 좀 더 자세히 살펴보겠습니다."
   ]
  },
  {
   "cell_type": "code",
   "execution_count": 26,
   "metadata": {},
   "outputs": [
    {
     "data": {
      "text/plain": [
       "{'id': 'run_WZmzm94iY7cO8JZXTWkyLhRF',\n",
       " 'assistant_id': 'asst_eZ2yeS87AJQw4cfstpjUXneU',\n",
       " 'cancelled_at': None,\n",
       " 'completed_at': None,\n",
       " 'created_at': 1703405631,\n",
       " 'expires_at': 1703406231,\n",
       " 'failed_at': None,\n",
       " 'file_ids': ['file-x3Uky6bI3OVlauSwA48SXTtW'],\n",
       " 'instructions': '너는 개인 수학 교사야. 질문에 한 문장 이하로 짧게 답해줘',\n",
       " 'last_error': None,\n",
       " 'metadata': {},\n",
       " 'model': 'gpt-4-1106-preview',\n",
       " 'object': 'thread.run',\n",
       " 'required_action': {'submit_tool_outputs': {'tool_calls': [{'id': 'call_7oLzfLddRcRSPKuPVs13o9Va',\n",
       "     'function': {'arguments': '{\"title\":\"Math Quiz\",\"questions\":[{\"question_text\":\"Find the value of the integral \\\\n\\\\n\\\\\\\\(\\\\n\\\\\\\\int_{0}^{\\\\n\\\\frac{\\\\n\\\\theta\\\\n}\\\\n{2\\\\n}\\\\n}\\\\n\\\\\\\\sin(x)dx\\\\n\\\\\\\\)\\\\n\\\\nwhere \\\\\\\\(\\\\n\\\\theta\\\\n\\\\\\\\) is a constant.\",\"question_type\":\"FREE_RESPONSE\"},{\"question_text\":\"Which of the following represents the derivative of \\\\\\\\(f(x) = x^2\\\\\\\\)?\",\"question_type\":\"MULTIPLE_CHOICE\",\"choices\":[\"2x\",\"2x^2\",\"x\",\"1\"]}]}',\n",
       "      'name': 'display_quiz'},\n",
       "     'type': 'function'}]},\n",
       "  'type': 'submit_tool_outputs'},\n",
       " 'started_at': 1703405631,\n",
       " 'status': 'requires_action',\n",
       " 'thread_id': 'thread_Ts71MeZYLj2SeoQvSUoWzHL7',\n",
       " 'tools': [{'type': 'code_interpreter'},\n",
       "  {'type': 'retrieval'},\n",
       "  {'function': {'name': 'display_quiz',\n",
       "    'description': '학생에게 퀴즈를 표시하고 학생의 응답을 반환합니다. 하나의 퀴즈에 여러 개의 질문이 포함될 수 있습니다.',\n",
       "    'parameters': {'type': 'object',\n",
       "     'properties': {'title': {'type': 'string'},\n",
       "      'questions': {'type': 'array',\n",
       "       'description': '제목과 옵션(객관식인 경우)이 있는 질문의 배열입니다.',\n",
       "       'items': {'type': 'object',\n",
       "        'properties': {'question_text': {'type': 'string'},\n",
       "         'question_type': {'type': 'string',\n",
       "          'enum': ['MULTIPLE_CHOICE', 'FREE_RESPONSE']},\n",
       "         'choices': {'type': 'array', 'items': {'type': 'string'}}},\n",
       "        'required': ['question_text']}}},\n",
       "     'required': ['title', 'questions']}},\n",
       "   'type': 'function'}]}"
      ]
     },
     "metadata": {},
     "output_type": "display_data"
    }
   ],
   "source": [
    "show_json(run)"
   ]
  },
  {
   "cell_type": "markdown",
   "metadata": {},
   "source": [
    "`required_action` 필드는 도구가 우리에게 실행하고 그 결과를 Assistant에게 제출하도록 대기 중인 것을 나타냅니다. 구체적으로 `display_quiz` 함수입니다! 먼저 `name` 및 `arguments`를 구문 분석하는 것부터 시작해 보겠습니다.\n",
    "\n",
    "> **참고**\n",
    "> 이 경우에는 하나의 도구 호출하지만, 실제로는 Assistant는 여러 도구를 호출하기로 선택할 수 있습니다."
   ]
  },
  {
   "cell_type": "code",
   "execution_count": 27,
   "metadata": {},
   "outputs": [
    {
     "name": "stdout",
     "output_type": "stream",
     "text": [
      "Function Name: display_quiz\n",
      "Function Arguments:\n"
     ]
    },
    {
     "data": {
      "text/plain": [
       "{'title': 'Math Quiz',\n",
       " 'questions': [{'question_text': 'Find the value of the integral \\n\\n\\\\(\\n\\\\int_{0}^{\\n\\x0crac{\\n\\theta\\n}\\n{2\\n}\\n}\\n\\\\sin(x)dx\\n\\\\)\\n\\nwhere \\\\(\\n\\theta\\n\\\\) is a constant.',\n",
       "   'question_type': 'FREE_RESPONSE'},\n",
       "  {'question_text': 'Which of the following represents the derivative of \\\\(f(x) = x^2\\\\)?',\n",
       "   'question_type': 'MULTIPLE_CHOICE',\n",
       "   'choices': ['2x', '2x^2', 'x', '1']}]}"
      ]
     },
     "execution_count": 27,
     "metadata": {},
     "output_type": "execute_result"
    }
   ],
   "source": [
    "# Extract single tool call\n",
    "tool_call = run.required_action.submit_tool_outputs.tool_calls[0]\n",
    "name = tool_call.function.name\n",
    "arguments = json.loads(tool_call.function.arguments)\n",
    "\n",
    "print(\"Function Name:\", name)\n",
    "print(\"Function Arguments:\")\n",
    "arguments"
   ]
  },
  {
   "cell_type": "markdown",
   "metadata": {},
   "source": [
    "이제 Assistant에서 제공한 인수를 사용하여 실제로 `display_quiz` 함수를 호출해 보겠습니다:"
   ]
  },
  {
   "cell_type": "code",
   "execution_count": 28,
   "metadata": {},
   "outputs": [
    {
     "name": "stdout",
     "output_type": "stream",
     "text": [
      "Quiz: Math Quiz\n",
      "\n",
      "Find the value of the integral \n",
      "\n",
      "\\(\n",
      "\\int_{0}^{\n",
      "\f",
      "rac{\n",
      "\theta\n",
      "}\n",
      "{2\n",
      "}\n",
      "}\n",
      "\\sin(x)dx\n",
      "\\)\n",
      "\n",
      "where \\(\n",
      "\theta\n",
      "\\) is a constant.\n",
      "\n",
      "Which of the following represents the derivative of \\(f(x) = x^2\\)?\n",
      "0. 2x\n",
      "1. 2x^2\n",
      "2. x\n",
      "3. 1\n",
      "\n",
      "Responses: [\"I don't know.\", 'a']\n"
     ]
    }
   ],
   "source": [
    "responses = display_quiz(arguments[\"title\"], arguments[\"questions\"])\n",
    "print(\"Responses:\", responses)"
   ]
  },
  {
   "cell_type": "markdown",
   "metadata": {},
   "source": [
    "좋습니다! (이 응답들은 이전에 모의로 만들었던 것입니다. 실제로는 이 함수 호출에서 입력을 다시 받아올 것입니다.)\n",
    "\n",
    "이제 응답을 얻었으므로, Assistant에게 다시 제출해 보겠습니다. 이전에 분석한 `tool_call`에서 찾을 수 있는 `tool_call` ID가 필요합니다. 또한 응답들의 `list`를 `str`로 인코딩해야 합니다."
   ]
  },
  {
   "cell_type": "code",
   "execution_count": 29,
   "metadata": {},
   "outputs": [
    {
     "data": {
      "text/plain": [
       "{'id': 'run_WZmzm94iY7cO8JZXTWkyLhRF',\n",
       " 'assistant_id': 'asst_eZ2yeS87AJQw4cfstpjUXneU',\n",
       " 'cancelled_at': None,\n",
       " 'completed_at': None,\n",
       " 'created_at': 1703405631,\n",
       " 'expires_at': 1703406231,\n",
       " 'failed_at': None,\n",
       " 'file_ids': ['file-x3Uky6bI3OVlauSwA48SXTtW'],\n",
       " 'instructions': '너는 개인 수학 교사야. 질문에 한 문장 이하로 짧게 답해줘',\n",
       " 'last_error': None,\n",
       " 'metadata': {},\n",
       " 'model': 'gpt-4-1106-preview',\n",
       " 'object': 'thread.run',\n",
       " 'required_action': None,\n",
       " 'started_at': 1703405631,\n",
       " 'status': 'queued',\n",
       " 'thread_id': 'thread_Ts71MeZYLj2SeoQvSUoWzHL7',\n",
       " 'tools': [{'type': 'code_interpreter'},\n",
       "  {'type': 'retrieval'},\n",
       "  {'function': {'name': 'display_quiz',\n",
       "    'description': '학생에게 퀴즈를 표시하고 학생의 응답을 반환합니다. 하나의 퀴즈에 여러 개의 질문이 포함될 수 있습니다.',\n",
       "    'parameters': {'type': 'object',\n",
       "     'properties': {'title': {'type': 'string'},\n",
       "      'questions': {'type': 'array',\n",
       "       'description': '제목과 옵션(객관식인 경우)이 있는 질문의 배열입니다.',\n",
       "       'items': {'type': 'object',\n",
       "        'properties': {'question_text': {'type': 'string'},\n",
       "         'question_type': {'type': 'string',\n",
       "          'enum': ['MULTIPLE_CHOICE', 'FREE_RESPONSE']},\n",
       "         'choices': {'type': 'array', 'items': {'type': 'string'}}},\n",
       "        'required': ['question_text']}}},\n",
       "     'required': ['title', 'questions']}},\n",
       "   'type': 'function'}]}"
      ]
     },
     "metadata": {},
     "output_type": "display_data"
    }
   ],
   "source": [
    "run = client.beta.threads.runs.submit_tool_outputs(\n",
    "    thread_id=thread.id,\n",
    "    run_id=run.id,\n",
    "    tool_outputs=[\n",
    "        {\n",
    "            \"tool_call_id\": tool_call.id,\n",
    "            \"output\": json.dumps(responses),\n",
    "        }\n",
    "    ],\n",
    ")\n",
    "show_json(run)"
   ]
  },
  {
   "cell_type": "markdown",
   "metadata": {},
   "source": [
    "이제 다시 Run이 완료될 때까지 기다릴 수 있으며, Thread를 확인해 보겠습니다!"
   ]
  },
  {
   "cell_type": "code",
   "execution_count": 30,
   "metadata": {},
   "outputs": [
    {
     "name": "stdout",
     "output_type": "stream",
     "text": [
      "# Messages\n",
      "user: 두 가지 질문으로 퀴즈를 만들어줘. 하나는 주관식, 하나는 객관식으로, 그런 다음 답변에 대한 피드백을 보내줘\n",
      "assistant: Thank you for taking the quiz. Here's some feedback:\n",
      "\n",
      "For the first question, the integral of sin(x) from 0 to \\( \\frac{\\theta}{2} \\) can be calculated using the fundamental theorem of calculus, and the antiderivative of sin(x) is -cos(x). You'd evaluate -cos(x) from 0 to \\( \\frac{\\theta}{2} \\) to find the answer.\n",
      "\n",
      "For the second question, the derivative of \\( f(x) = x^2 \\) is indeed 2x, so you chose the correct answer. Good job! Keep practicing your calculus, and it will become more intuitive.\n",
      "\n"
     ]
    }
   ],
   "source": [
    "run = wait_on_run(run, thread)\n",
    "pretty_print(get_response(thread))"
   ]
  },
  {
   "cell_type": "markdown",
   "metadata": {},
   "source": [
    "완료했습니다! 🎉\n"
   ]
  },
  {
   "cell_type": "markdown",
   "metadata": {},
   "source": [
    "## 결론\n",
    "\n",
    "이 노트북에서 많은 내용을 다뤘으므로 스스로에게 하이파이브를 해 주세요! 이제 코드 해석기, 검색 및 함수와 같은 도구를 사용하여 강력하고 상태를 유지하는 경험을 구축하기 위한 튼튼한 기반을 가지고 있어야 합니다!\n",
    "\n",
    "간략함을 유지하기 위해 다루지 않은 몇 가지 섹션도 있으므로 더 자세히 살펴볼 수 있는 몇 가지 리소스를 제공합니다:\n",
    "\n",
    "- [Annotations](https://platform.openai.com/docs/assistants/how-it-works/managing-threads-and-messages): 파일 인용문 구문 분석\n",
    "- [Files](https://platform.openai.com/docs/api-reference/assistants/file-object): Thread 범위 vs Assistant 범위\n",
    "- [Parallel Function Calls](https://platform.openai.com/docs/guides/function-calling/parallel-function-calling): 하나의 단계에서 여러 도구 호출\n",
    "- Multi-Assistant Thread Runs: 여러 Assistant에서 온 메시지가 있는 단일 Thread\n",
    "- Streaming: 곧 출시 예정!"
   ]
  }
 ],
 "metadata": {
  "kernelspec": {
   "display_name": "Python 3 (ipykernel)",
   "language": "python",
   "name": "python3"
  },
  "language_info": {
   "codemirror_mode": {
    "name": "ipython",
    "version": 3
   },
   "file_extension": ".py",
   "mimetype": "text/x-python",
   "name": "python",
   "nbconvert_exporter": "python",
   "pygments_lexer": "ipython3",
   "version": "3.11.3"
  }
 },
 "nbformat": 4,
 "nbformat_minor": 4
}
