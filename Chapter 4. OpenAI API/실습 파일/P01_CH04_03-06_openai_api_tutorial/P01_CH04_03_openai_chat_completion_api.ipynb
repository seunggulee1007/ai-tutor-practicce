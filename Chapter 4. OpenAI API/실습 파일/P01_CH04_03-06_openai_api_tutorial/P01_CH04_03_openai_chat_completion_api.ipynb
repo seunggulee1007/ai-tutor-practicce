{
 "cells": [
  {
   "cell_type": "markdown",
   "id": "f0c531f8-f17f-4eaf-8db5-29fdf376e5e3",
   "metadata": {},
   "source": [
    "# OpenAI ChatGPT API 사용 방법 알아보기"
   ]
  },
  {
   "cell_type": "code",
   "execution_count": null,
   "id": "4178834d-8b0b-4ecc-9266-60463ec0634d",
   "metadata": {},
   "outputs": [],
   "source": [
    "import os"
   ]
  },
  {
   "cell_type": "code",
   "execution_count": null,
   "id": "449544e9-ea0f-4e8b-b6d3-7b9772740a12",
   "metadata": {},
   "outputs": [],
   "source": [
    "# export OPENAI_API_KEY='your-api-key-here'\n",
    "# os.environ[\"OPENAI_API_KEY\"] = \"your-api-key-here\""
   ]
  },
  {
   "cell_type": "markdown",
   "id": "4db743b8-714a-44dd-810b-c20e2603985b",
   "metadata": {},
   "source": [
    "## OpenAI Doc\n",
    "- https://platform.openai.com/docs"
   ]
  },
  {
   "cell_type": "markdown",
   "id": "df7730f1-77cb-44ee-b3a4-1d28760c01e2",
   "metadata": {},
   "source": [
    "## curl로 호출해보기"
   ]
  },
  {
   "cell_type": "code",
   "execution_count": 2,
   "id": "12b4581b-a0ba-493e-aea1-2253bfc3c3aa",
   "metadata": {},
   "outputs": [
    {
     "name": "stdout",
     "output_type": "stream",
     "text": [
      "#!/usr/bin/env bash\n",
      "\n",
      "\n",
      "curl https://api.openai.com/v1/chat/completions \\\n",
      "  -H \"Content-Type: application/json\" \\\n",
      "  -H \"Authorization: Bearer $OPENAI_API_KEY\" \\\n",
      "  -d '{\n",
      "    \"model\": \"gpt-3.5-turbo\",\n",
      "    \"messages\": [\n",
      "      {\n",
      "        \"role\": \"system\",\n",
      "        \"content\": \"너는 감정분류를 수행한다. user의 텍스트의 감정이 긍정이면 positive, 부정적이면 negative를 출력한다.\"\n",
      "      },\n",
      "      {\n",
      "        \"role\": \"user\",\n",
      "        \"content\": \"이 영화 너무 재미있다.\"\n",
      "      }\n",
      "    ]\n",
      "  }'\n"
     ]
    }
   ],
   "source": [
    "!cat ./call_chat_completion.sh"
   ]
  },
  {
   "cell_type": "code",
   "execution_count": 4,
   "id": "173c462e-29a0-4533-864b-1e8169588c5a",
   "metadata": {},
   "outputs": [],
   "source": [
    "!chmod +x ./call_chat_completion.sh"
   ]
  },
  {
   "cell_type": "code",
   "execution_count": 5,
   "id": "96a08f4c-7e4f-4490-91fd-04a04c52be43",
   "metadata": {},
   "outputs": [
    {
     "name": "stdout",
     "output_type": "stream",
     "text": [
      "{\n",
      "  \"id\": \"chatcmpl-8ZD5UAlnShn0BOWAa6dgbp3ibZ4OI\",\n",
      "  \"object\": \"chat.completion\",\n",
      "  \"created\": 1703402480,\n",
      "  \"model\": \"gpt-3.5-turbo-0613\",\n",
      "  \"choices\": [\n",
      "    {\n",
      "      \"index\": 0,\n",
      "      \"message\": {\n",
      "        \"role\": \"assistant\",\n",
      "        \"content\": \"positive\"\n",
      "      },\n",
      "      \"logprobs\": null,\n",
      "      \"finish_reason\": \"stop\"\n",
      "    }\n",
      "  ],\n",
      "  \"usage\": {\n",
      "    \"prompt_tokens\": 66,\n",
      "    \"completion_tokens\": 1,\n",
      "    \"total_tokens\": 67\n",
      "  },\n",
      "  \"system_fingerprint\": null\n",
      "}\n"
     ]
    }
   ],
   "source": [
    "!./call_chat_completion.sh"
   ]
  },
  {
   "cell_type": "markdown",
   "id": "7f1f3a04-53a5-4445-b2be-4da8142bd186",
   "metadata": {},
   "source": [
    "## Python SDK 활용"
   ]
  },
  {
   "cell_type": "code",
   "execution_count": 6,
   "id": "9da774aa-3d66-49c0-89f3-7e61ff7734ad",
   "metadata": {
    "collapsed": true,
    "jupyter": {
     "outputs_hidden": true
    },
    "scrolled": true
   },
   "outputs": [
    {
     "name": "stdout",
     "output_type": "stream",
     "text": [
      "Requirement already satisfied: openai in /opt/homebrew/Caskroom/miniconda/base/envs/fc-aitutor-prepare-2312/lib/python3.11/site-packages (1.3.7)\n",
      "Requirement already satisfied: anyio<4,>=3.5.0 in /opt/homebrew/Caskroom/miniconda/base/envs/fc-aitutor-prepare-2312/lib/python3.11/site-packages (from openai) (3.7.1)\n",
      "Requirement already satisfied: distro<2,>=1.7.0 in /opt/homebrew/Caskroom/miniconda/base/envs/fc-aitutor-prepare-2312/lib/python3.11/site-packages (from openai) (1.8.0)\n",
      "Requirement already satisfied: httpx<1,>=0.23.0 in /opt/homebrew/Caskroom/miniconda/base/envs/fc-aitutor-prepare-2312/lib/python3.11/site-packages (from openai) (0.25.2)\n",
      "Requirement already satisfied: pydantic<3,>=1.9.0 in /opt/homebrew/Caskroom/miniconda/base/envs/fc-aitutor-prepare-2312/lib/python3.11/site-packages (from openai) (2.5.2)\n",
      "Requirement already satisfied: sniffio in /opt/homebrew/Caskroom/miniconda/base/envs/fc-aitutor-prepare-2312/lib/python3.11/site-packages (from openai) (1.3.0)\n",
      "Requirement already satisfied: tqdm>4 in /opt/homebrew/Caskroom/miniconda/base/envs/fc-aitutor-prepare-2312/lib/python3.11/site-packages (from openai) (4.66.1)\n",
      "Requirement already satisfied: typing-extensions<5,>=4.5 in /opt/homebrew/Caskroom/miniconda/base/envs/fc-aitutor-prepare-2312/lib/python3.11/site-packages (from openai) (4.8.0)\n",
      "Requirement already satisfied: idna>=2.8 in /opt/homebrew/Caskroom/miniconda/base/envs/fc-aitutor-prepare-2312/lib/python3.11/site-packages (from anyio<4,>=3.5.0->openai) (3.6)\n",
      "Requirement already satisfied: certifi in /opt/homebrew/Caskroom/miniconda/base/envs/fc-aitutor-prepare-2312/lib/python3.11/site-packages (from httpx<1,>=0.23.0->openai) (2023.11.17)\n",
      "Requirement already satisfied: httpcore==1.* in /opt/homebrew/Caskroom/miniconda/base/envs/fc-aitutor-prepare-2312/lib/python3.11/site-packages (from httpx<1,>=0.23.0->openai) (1.0.2)\n",
      "Requirement already satisfied: h11<0.15,>=0.13 in /opt/homebrew/Caskroom/miniconda/base/envs/fc-aitutor-prepare-2312/lib/python3.11/site-packages (from httpcore==1.*->httpx<1,>=0.23.0->openai) (0.14.0)\n",
      "Requirement already satisfied: annotated-types>=0.4.0 in /opt/homebrew/Caskroom/miniconda/base/envs/fc-aitutor-prepare-2312/lib/python3.11/site-packages (from pydantic<3,>=1.9.0->openai) (0.6.0)\n",
      "Requirement already satisfied: pydantic-core==2.14.5 in /opt/homebrew/Caskroom/miniconda/base/envs/fc-aitutor-prepare-2312/lib/python3.11/site-packages (from pydantic<3,>=1.9.0->openai) (2.14.5)\n"
     ]
    }
   ],
   "source": [
    "!pip install openai"
   ]
  },
  {
   "cell_type": "code",
   "execution_count": 7,
   "id": "a4e329c7-35bd-4fa9-a4d6-33136872dafe",
   "metadata": {},
   "outputs": [],
   "source": [
    "from openai import OpenAI"
   ]
  },
  {
   "cell_type": "code",
   "execution_count": 8,
   "id": "c7b2dc4e-7157-49a5-bbb3-3439f4e4953c",
   "metadata": {},
   "outputs": [],
   "source": [
    "client = OpenAI()"
   ]
  },
  {
   "cell_type": "code",
   "execution_count": 9,
   "id": "c05e5725-310f-4e67-a769-723ac8a574cb",
   "metadata": {},
   "outputs": [],
   "source": [
    "# 기본적인 사용법\n",
    "completion = client.chat.completions.create(\n",
    "  model=\"gpt-4\",  # gpt-3.5-turbo, gpt-4, gpt-4-1106-preview, etc...\n",
    "  messages=[\n",
    "    {\"role\": \"system\", \"content\": \"너는 도움이 되는 AI어시스턴트이다.\"},\n",
    "    {\"role\": \"user\", \"content\": \"햄버거 만드는법 알려줘\"}\n",
    "  ]\n",
    ")"
   ]
  },
  {
   "cell_type": "code",
   "execution_count": 10,
   "id": "b2ac6c33-3328-49a3-a9e2-18dfddb69b2c",
   "metadata": {},
   "outputs": [
    {
     "name": "stdout",
     "output_type": "stream",
     "text": [
      "ChatCompletionMessage(content='햄버거를 만들기 위한 가장 간단한 방법을 알려드리겠습니다. \\n\\n재료:\\n1. 버거 패티: 다진 소고기 1컵, 파슬리 잎 다진 것 1큰 술, 식빵 부스러기 1/2컵, 계란 1개, 참깨 1작은 술(선택), 소금과 후추로 알맞게 조리\\n2. 모짜렐라 치즈: 1조각(선택사항)\\n3. 햄버거 빵: 2조각\\n4. 야채: 얼음 상추, 토마토, 양파, 피클 등 개인의 취향에 따라 선택\\n5. 소스: 마요네즈, 머스타드, 케첩 등 개인의 취향에 따라 선택\\n\\n만드는법:\\n1. 버거 패티를 만들기 위해 다진 소고기, 파슬리, 식빵 부스러기, 계란, 참깨, 소금, 후추를 큰 그릇에 넣고 잘 섞습니다. 필요하다면 계란이나 식빵 부스러기를 추가하여 형태가 유지되도록 해줍니다.\\n\\n2. 만들어진 고기 반죽을 치밥하여 패티 모양으로 만든 후, 중앙에 약간의 오목한 부분을 만들어 주었습니다. 팬에 녹인 버터나 캔까나 콜라를 사용해 패티를 앞뒤로 골고루 익힙니다. 중간에 한 번 뒤집어주세요.\\n\\n3. 햄버거 빵은 둘로 나누어 토스터기나 팬 위에서 약간 노릇하게 구워줍니다.\\n\\n4. 빵의 아래 부분에 야채를 먼저 얹었다가 그 위에 구운 패티를 올립니다.\\n\\n5. 필요한 경우 치즈도 패티 위에 올랐다가 뚜껑을 닫아 치즈가 녹도록 해줍니다. 그다음, 선택한 소스를 패티 위에 덮어줍니다.\\n\\n6. 마지막으로 빵의 윗 부분을 얹느다면, 완벽한 햄버거가 완성됩니다.\\n\\n본인의 입맛에 맞게 야채나 소스를 추가하거나 생략하면서 응용해보세요!', role='assistant', function_call=None, tool_calls=None)\n"
     ]
    }
   ],
   "source": [
    "print(completion.choices[0].message)"
   ]
  },
  {
   "cell_type": "code",
   "execution_count": 11,
   "id": "9a206f6e-6e66-4783-a7a0-459c3f7af49b",
   "metadata": {},
   "outputs": [
    {
     "data": {
      "text/plain": [
       "ChatCompletion(id='chatcmpl-8ZD6xPKAou8rYlEZVI5L583lKG1Uj', choices=[Choice(finish_reason='stop', index=0, message=ChatCompletionMessage(content='햄버거를 만들기 위한 가장 간단한 방법을 알려드리겠습니다. \\n\\n재료:\\n1. 버거 패티: 다진 소고기 1컵, 파슬리 잎 다진 것 1큰 술, 식빵 부스러기 1/2컵, 계란 1개, 참깨 1작은 술(선택), 소금과 후추로 알맞게 조리\\n2. 모짜렐라 치즈: 1조각(선택사항)\\n3. 햄버거 빵: 2조각\\n4. 야채: 얼음 상추, 토마토, 양파, 피클 등 개인의 취향에 따라 선택\\n5. 소스: 마요네즈, 머스타드, 케첩 등 개인의 취향에 따라 선택\\n\\n만드는법:\\n1. 버거 패티를 만들기 위해 다진 소고기, 파슬리, 식빵 부스러기, 계란, 참깨, 소금, 후추를 큰 그릇에 넣고 잘 섞습니다. 필요하다면 계란이나 식빵 부스러기를 추가하여 형태가 유지되도록 해줍니다.\\n\\n2. 만들어진 고기 반죽을 치밥하여 패티 모양으로 만든 후, 중앙에 약간의 오목한 부분을 만들어 주었습니다. 팬에 녹인 버터나 캔까나 콜라를 사용해 패티를 앞뒤로 골고루 익힙니다. 중간에 한 번 뒤집어주세요.\\n\\n3. 햄버거 빵은 둘로 나누어 토스터기나 팬 위에서 약간 노릇하게 구워줍니다.\\n\\n4. 빵의 아래 부분에 야채를 먼저 얹었다가 그 위에 구운 패티를 올립니다.\\n\\n5. 필요한 경우 치즈도 패티 위에 올랐다가 뚜껑을 닫아 치즈가 녹도록 해줍니다. 그다음, 선택한 소스를 패티 위에 덮어줍니다.\\n\\n6. 마지막으로 빵의 윗 부분을 얹느다면, 완벽한 햄버거가 완성됩니다.\\n\\n본인의 입맛에 맞게 야채나 소스를 추가하거나 생략하면서 응용해보세요!', role='assistant', function_call=None, tool_calls=None), logprobs=None)], created=1703402571, model='gpt-4-0613', object='chat.completion', system_fingerprint=None, usage=CompletionUsage(completion_tokens=731, prompt_tokens=46, total_tokens=777))"
      ]
     },
     "execution_count": 11,
     "metadata": {},
     "output_type": "execute_result"
    }
   ],
   "source": [
    "completion"
   ]
  },
  {
   "cell_type": "markdown",
   "id": "37e25567-aa87-41f1-bbd7-987831068fc3",
   "metadata": {},
   "source": [
    "## 가장 간단한 챗봇 만들기"
   ]
  },
  {
   "cell_type": "code",
   "execution_count": 13,
   "id": "d7a548fd-0757-48c0-b095-f6ae79ccda73",
   "metadata": {},
   "outputs": [],
   "source": [
    "system_instruction = \"\"\"\n",
    "너는 햄버거 가게 AI비서야\n",
    "\n",
    "아래는 햄버거 종류야. 아래 종류의 버거 말고는 다른 버거는 없어\n",
    "\n",
    "- 빅맥\n",
    "- 쿼터파운더\n",
    "- 치즈버거\n",
    "\n",
    "위의 메뉴 말고는 없다고 생각하면돼\n",
    "\"\"\""
   ]
  },
  {
   "cell_type": "code",
   "execution_count": 14,
   "id": "6fb0cf3b-8dd8-418f-984f-aab32d4de5f0",
   "metadata": {},
   "outputs": [],
   "source": [
    "messages = [{\"role\": \"system\", \"content\": system_instruction}]\n",
    "\n",
    "def ask(text):\n",
    "    user_input = {\"role\": \"user\", \"content\": text}\n",
    "    messages.append(user_input)\n",
    "\n",
    "    response = client.chat.completions.create(\n",
    "        model=\"gpt-3.5-turbo\",\n",
    "        messages=messages)\n",
    "\n",
    "    bot_text = response.choices[0].message.content\n",
    "    bot_resp = {\"role\": \"assistant\", \"content\": bot_text}\n",
    "    messages.append(bot_resp)\n",
    "    return bot_text"
   ]
  },
  {
   "cell_type": "code",
   "execution_count": null,
   "id": "ff066664-c930-412c-918b-dfaee561e2f0",
   "metadata": {},
   "outputs": [
    {
     "name": "stdin",
     "output_type": "stream",
     "text": [
      "user:  어떤 햄버거가 있어?\n"
     ]
    },
    {
     "name": "stdout",
     "output_type": "stream",
     "text": [
      "bot: 햄버거 가게에서 제공하는 종류는 다음과 같아:\n",
      "\n",
      "- 빅맥\n",
      "- 쿼터파운더\n",
      "- 치즈버거\n"
     ]
    },
    {
     "name": "stdin",
     "output_type": "stream",
     "text": [
      "user:  빅맥이 좋은 것 같네\n"
     ]
    },
    {
     "name": "stdout",
     "output_type": "stream",
     "text": [
      "bot: 빅맥은 많은 사람들에게 인기 있는 햄버거야! 빅맥은 두 개의 쇠고기 패티와 특별한 빅맥 소스, 양상추, 피클, 양파, 치즈로 구성되어 있어요. 맛과 양이 풍부해서 햄버거 팬들에게 매우 인기가 있어요. 빅맥을 주문하면 큰 만족감을 느낄 수 있을 거예요!\n"
     ]
    }
   ],
   "source": [
    "while True:\n",
    "    user_input = input(\"user: \")\n",
    "    bot_resp = ask(user_input)\n",
    "    print(f\"bot: {bot_resp}\")"
   ]
  },
  {
   "cell_type": "code",
   "execution_count": null,
   "id": "315905d0-d2b6-4938-98e1-4204dd5da66f",
   "metadata": {},
   "outputs": [],
   "source": []
  }
 ],
 "metadata": {
  "kernelspec": {
   "display_name": "Python 3 (ipykernel)",
   "language": "python",
   "name": "python3"
  },
  "language_info": {
   "codemirror_mode": {
    "name": "ipython",
    "version": 3
   },
   "file_extension": ".py",
   "mimetype": "text/x-python",
   "name": "python",
   "nbconvert_exporter": "python",
   "pygments_lexer": "ipython3",
   "version": "3.10.10"
  }
 },
 "nbformat": 4,
 "nbformat_minor": 5
}
